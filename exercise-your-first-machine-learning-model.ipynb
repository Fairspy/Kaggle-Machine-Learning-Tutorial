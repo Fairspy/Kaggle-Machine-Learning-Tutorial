{
 "cells": [
  {
   "cell_type": "markdown",
   "id": "2966ce40",
   "metadata": {
    "papermill": {
     "duration": 0.007133,
     "end_time": "2022-06-26T15:33:40.313869",
     "exception": false,
     "start_time": "2022-06-26T15:33:40.306736",
     "status": "completed"
    },
    "tags": []
   },
   "source": [
    "**This notebook is an exercise in the [Introduction to Machine Learning](https://www.kaggle.com/learn/intro-to-machine-learning) course.  You can reference the tutorial at [this link](https://www.kaggle.com/dansbecker/your-first-machine-learning-model).**\n",
    "\n",
    "---\n"
   ]
  },
  {
   "cell_type": "markdown",
   "id": "2641678a",
   "metadata": {
    "papermill": {
     "duration": 0.005564,
     "end_time": "2022-06-26T15:33:40.325662",
     "exception": false,
     "start_time": "2022-06-26T15:33:40.320098",
     "status": "completed"
    },
    "tags": []
   },
   "source": [
    "## Recap\n",
    "So far, you have loaded your data and reviewed it with the following code. Run this cell to set up your coding environment where the previous step left off."
   ]
  },
  {
   "cell_type": "code",
   "execution_count": 1,
   "id": "a75ebd4b",
   "metadata": {
    "execution": {
     "iopub.execute_input": "2022-06-26T15:33:40.339334Z",
     "iopub.status.busy": "2022-06-26T15:33:40.338897Z",
     "iopub.status.idle": "2022-06-26T15:33:41.737353Z",
     "shell.execute_reply": "2022-06-26T15:33:41.736235Z"
    },
    "papermill": {
     "duration": 1.409044,
     "end_time": "2022-06-26T15:33:41.740524",
     "exception": false,
     "start_time": "2022-06-26T15:33:40.331480",
     "status": "completed"
    },
    "tags": []
   },
   "outputs": [
    {
     "name": "stdout",
     "output_type": "stream",
     "text": [
      "Setup Complete\n"
     ]
    }
   ],
   "source": [
    "# Code you have previously used to load data\n",
    "import pandas as pd\n",
    "\n",
    "# Path of the file to read\n",
    "iowa_file_path = '../input/home-data-for-ml-course/train.csv'\n",
    "\n",
    "home_data = pd.read_csv(iowa_file_path)\n",
    "\n",
    "# Set up code checking\n",
    "from learntools.core import binder\n",
    "binder.bind(globals())\n",
    "from learntools.machine_learning.ex3 import *\n",
    "\n",
    "print(\"Setup Complete\")"
   ]
  },
  {
   "cell_type": "markdown",
   "id": "d4f20d2b",
   "metadata": {
    "papermill": {
     "duration": 0.006071,
     "end_time": "2022-06-26T15:33:41.753290",
     "exception": false,
     "start_time": "2022-06-26T15:33:41.747219",
     "status": "completed"
    },
    "tags": []
   },
   "source": [
    "# Exercises\n",
    "\n",
    "## Step 1: Specify Prediction Target\n",
    "Select the target variable, which corresponds to the sales price. Save this to a new variable called `y`. You'll need to print a list of the columns to find the name of the column you need.\n"
   ]
  },
  {
   "cell_type": "code",
   "execution_count": 2,
   "id": "aa18f0e9",
   "metadata": {
    "execution": {
     "iopub.execute_input": "2022-06-26T15:33:41.767337Z",
     "iopub.status.busy": "2022-06-26T15:33:41.766909Z",
     "iopub.status.idle": "2022-06-26T15:33:41.777953Z",
     "shell.execute_reply": "2022-06-26T15:33:41.776769Z"
    },
    "papermill": {
     "duration": 0.020859,
     "end_time": "2022-06-26T15:33:41.780161",
     "exception": false,
     "start_time": "2022-06-26T15:33:41.759302",
     "status": "completed"
    },
    "tags": []
   },
   "outputs": [
    {
     "data": {
      "text/plain": [
       "Index(['Id', 'MSSubClass', 'MSZoning', 'LotFrontage', 'LotArea', 'Street',\n",
       "       'Alley', 'LotShape', 'LandContour', 'Utilities', 'LotConfig',\n",
       "       'LandSlope', 'Neighborhood', 'Condition1', 'Condition2', 'BldgType',\n",
       "       'HouseStyle', 'OverallQual', 'OverallCond', 'YearBuilt', 'YearRemodAdd',\n",
       "       'RoofStyle', 'RoofMatl', 'Exterior1st', 'Exterior2nd', 'MasVnrType',\n",
       "       'MasVnrArea', 'ExterQual', 'ExterCond', 'Foundation', 'BsmtQual',\n",
       "       'BsmtCond', 'BsmtExposure', 'BsmtFinType1', 'BsmtFinSF1',\n",
       "       'BsmtFinType2', 'BsmtFinSF2', 'BsmtUnfSF', 'TotalBsmtSF', 'Heating',\n",
       "       'HeatingQC', 'CentralAir', 'Electrical', '1stFlrSF', '2ndFlrSF',\n",
       "       'LowQualFinSF', 'GrLivArea', 'BsmtFullBath', 'BsmtHalfBath', 'FullBath',\n",
       "       'HalfBath', 'BedroomAbvGr', 'KitchenAbvGr', 'KitchenQual',\n",
       "       'TotRmsAbvGrd', 'Functional', 'Fireplaces', 'FireplaceQu', 'GarageType',\n",
       "       'GarageYrBlt', 'GarageFinish', 'GarageCars', 'GarageArea', 'GarageQual',\n",
       "       'GarageCond', 'PavedDrive', 'WoodDeckSF', 'OpenPorchSF',\n",
       "       'EnclosedPorch', '3SsnPorch', 'ScreenPorch', 'PoolArea', 'PoolQC',\n",
       "       'Fence', 'MiscFeature', 'MiscVal', 'MoSold', 'YrSold', 'SaleType',\n",
       "       'SaleCondition', 'SalePrice'],\n",
       "      dtype='object')"
      ]
     },
     "execution_count": 2,
     "metadata": {},
     "output_type": "execute_result"
    }
   ],
   "source": [
    "# print the list of columns in the dataset to find the name of the prediction target\n",
    "home_data.columns"
   ]
  },
  {
   "cell_type": "code",
   "execution_count": 3,
   "id": "06f5d4ec",
   "metadata": {
    "execution": {
     "iopub.execute_input": "2022-06-26T15:33:41.794118Z",
     "iopub.status.busy": "2022-06-26T15:33:41.793352Z",
     "iopub.status.idle": "2022-06-26T15:33:41.807946Z",
     "shell.execute_reply": "2022-06-26T15:33:41.806901Z"
    },
    "papermill": {
     "duration": 0.023859,
     "end_time": "2022-06-26T15:33:41.810104",
     "exception": false,
     "start_time": "2022-06-26T15:33:41.786245",
     "status": "completed"
    },
    "tags": []
   },
   "outputs": [
    {
     "data": {
      "application/javascript": [
       "parent.postMessage({\"jupyterEvent\": \"custom.exercise_interaction\", \"data\": {\"outcomeType\": 1, \"valueTowardsCompletion\": 0.25, \"interactionType\": 1, \"questionType\": 2, \"questionId\": \"1_SetTarget\", \"learnToolsVersion\": \"0.3.4\", \"failureMessage\": \"\", \"exceptionClass\": \"\", \"trace\": \"\"}}, \"*\")"
      ],
      "text/plain": [
       "<IPython.core.display.Javascript object>"
      ]
     },
     "metadata": {},
     "output_type": "display_data"
    },
    {
     "data": {
      "text/markdown": [
       "<span style=\"color:#33cc33\">Correct</span>"
      ],
      "text/plain": [
       "Correct"
      ]
     },
     "metadata": {},
     "output_type": "display_data"
    }
   ],
   "source": [
    "y = home_data.SalePrice\n",
    "\n",
    "# Check your answer\n",
    "step_1.check()"
   ]
  },
  {
   "cell_type": "code",
   "execution_count": 4,
   "id": "8f964834",
   "metadata": {
    "collapsed": true,
    "execution": {
     "iopub.execute_input": "2022-06-26T15:33:41.824255Z",
     "iopub.status.busy": "2022-06-26T15:33:41.823536Z",
     "iopub.status.idle": "2022-06-26T15:33:41.828116Z",
     "shell.execute_reply": "2022-06-26T15:33:41.827335Z"
    },
    "jupyter": {
     "outputs_hidden": true
    },
    "papermill": {
     "duration": 0.014194,
     "end_time": "2022-06-26T15:33:41.830257",
     "exception": false,
     "start_time": "2022-06-26T15:33:41.816063",
     "status": "completed"
    },
    "tags": []
   },
   "outputs": [],
   "source": [
    "# The lines below will show you a hint or the solution.\n",
    "# step_1.hint() \n",
    "# step_1.solution()"
   ]
  },
  {
   "cell_type": "markdown",
   "id": "84f5370b",
   "metadata": {
    "papermill": {
     "duration": 0.006016,
     "end_time": "2022-06-26T15:33:41.842332",
     "exception": false,
     "start_time": "2022-06-26T15:33:41.836316",
     "status": "completed"
    },
    "tags": []
   },
   "source": [
    "## Step 2: Create X\n",
    "Now you will create a DataFrame called `X` holding the predictive features.\n",
    "\n",
    "Since you want only some columns from the original data, you'll first create a list with the names of the columns you want in `X`.\n",
    "\n",
    "You'll use just the following columns in the list (you can copy and paste the whole list to save some typing, though you'll still need to add quotes):\n",
    "  * LotArea\n",
    "  * YearBuilt\n",
    "  * 1stFlrSF\n",
    "  * 2ndFlrSF\n",
    "  * FullBath\n",
    "  * BedroomAbvGr\n",
    "  * TotRmsAbvGrd\n",
    "\n",
    "After you've created that list of features, use it to create the DataFrame that you'll use to fit the model."
   ]
  },
  {
   "cell_type": "code",
   "execution_count": 5,
   "id": "80ff6755",
   "metadata": {
    "execution": {
     "iopub.execute_input": "2022-06-26T15:33:41.856902Z",
     "iopub.status.busy": "2022-06-26T15:33:41.856506Z",
     "iopub.status.idle": "2022-06-26T15:33:41.871137Z",
     "shell.execute_reply": "2022-06-26T15:33:41.870305Z"
    },
    "papermill": {
     "duration": 0.024669,
     "end_time": "2022-06-26T15:33:41.873269",
     "exception": false,
     "start_time": "2022-06-26T15:33:41.848600",
     "status": "completed"
    },
    "tags": []
   },
   "outputs": [
    {
     "data": {
      "application/javascript": [
       "parent.postMessage({\"jupyterEvent\": \"custom.exercise_interaction\", \"data\": {\"outcomeType\": 1, \"valueTowardsCompletion\": 0.25, \"interactionType\": 1, \"questionType\": 2, \"questionId\": \"2_SelectPredictionData\", \"learnToolsVersion\": \"0.3.4\", \"failureMessage\": \"\", \"exceptionClass\": \"\", \"trace\": \"\"}}, \"*\")"
      ],
      "text/plain": [
       "<IPython.core.display.Javascript object>"
      ]
     },
     "metadata": {},
     "output_type": "display_data"
    },
    {
     "data": {
      "text/markdown": [
       "<span style=\"color:#33cc33\">Correct</span>"
      ],
      "text/plain": [
       "Correct"
      ]
     },
     "metadata": {},
     "output_type": "display_data"
    }
   ],
   "source": [
    "# Create the list of features below\n",
    "feature_names = ['LotArea', 'YearBuilt', '1stFlrSF', '2ndFlrSF', 'FullBath', 'BedroomAbvGr', 'TotRmsAbvGrd']\n",
    "\n",
    "# Select data corresponding to features in feature_names\n",
    "X = home_data[feature_names]\n",
    "\n",
    "# Check your answer\n",
    "step_2.check()"
   ]
  },
  {
   "cell_type": "code",
   "execution_count": 6,
   "id": "0437ac6d",
   "metadata": {
    "collapsed": true,
    "execution": {
     "iopub.execute_input": "2022-06-26T15:33:41.888804Z",
     "iopub.status.busy": "2022-06-26T15:33:41.887792Z",
     "iopub.status.idle": "2022-06-26T15:33:41.892308Z",
     "shell.execute_reply": "2022-06-26T15:33:41.891558Z"
    },
    "jupyter": {
     "outputs_hidden": true
    },
    "papermill": {
     "duration": 0.014491,
     "end_time": "2022-06-26T15:33:41.894514",
     "exception": false,
     "start_time": "2022-06-26T15:33:41.880023",
     "status": "completed"
    },
    "tags": []
   },
   "outputs": [],
   "source": [
    "# step_2.hint()\n",
    "# step_2.solution()"
   ]
  },
  {
   "cell_type": "markdown",
   "id": "9eb33c98",
   "metadata": {
    "papermill": {
     "duration": 0.006221,
     "end_time": "2022-06-26T15:33:41.907061",
     "exception": false,
     "start_time": "2022-06-26T15:33:41.900840",
     "status": "completed"
    },
    "tags": []
   },
   "source": [
    "## Review Data\n",
    "Before building a model, take a quick look at **X** to verify it looks sensible"
   ]
  },
  {
   "cell_type": "code",
   "execution_count": 7,
   "id": "d959f876",
   "metadata": {
    "execution": {
     "iopub.execute_input": "2022-06-26T15:33:41.922484Z",
     "iopub.status.busy": "2022-06-26T15:33:41.921759Z",
     "iopub.status.idle": "2022-06-26T15:33:41.956726Z",
     "shell.execute_reply": "2022-06-26T15:33:41.955590Z"
    },
    "papermill": {
     "duration": 0.046248,
     "end_time": "2022-06-26T15:33:41.959839",
     "exception": false,
     "start_time": "2022-06-26T15:33:41.913591",
     "status": "completed"
    },
    "tags": []
   },
   "outputs": [
    {
     "name": "stdout",
     "output_type": "stream",
     "text": [
      "             LotArea    YearBuilt     1stFlrSF     2ndFlrSF     FullBath  \\\n",
      "count    1460.000000  1460.000000  1460.000000  1460.000000  1460.000000   \n",
      "mean    10516.828082  1971.267808  1162.626712   346.992466     1.565068   \n",
      "std      9981.264932    30.202904   386.587738   436.528436     0.550916   \n",
      "min      1300.000000  1872.000000   334.000000     0.000000     0.000000   \n",
      "25%      7553.500000  1954.000000   882.000000     0.000000     1.000000   \n",
      "50%      9478.500000  1973.000000  1087.000000     0.000000     2.000000   \n",
      "75%     11601.500000  2000.000000  1391.250000   728.000000     2.000000   \n",
      "max    215245.000000  2010.000000  4692.000000  2065.000000     3.000000   \n",
      "\n",
      "       BedroomAbvGr  TotRmsAbvGrd  \n",
      "count   1460.000000   1460.000000  \n",
      "mean       2.866438      6.517808  \n",
      "std        0.815778      1.625393  \n",
      "min        0.000000      2.000000  \n",
      "25%        2.000000      5.000000  \n",
      "50%        3.000000      6.000000  \n",
      "75%        3.000000      7.000000  \n",
      "max        8.000000     14.000000  \n",
      "   LotArea  YearBuilt  1stFlrSF  2ndFlrSF  FullBath  BedroomAbvGr  \\\n",
      "0     8450       2003       856       854         2             3   \n",
      "1     9600       1976      1262         0         2             3   \n",
      "2    11250       2001       920       866         2             3   \n",
      "3     9550       1915       961       756         1             3   \n",
      "4    14260       2000      1145      1053         2             4   \n",
      "\n",
      "   TotRmsAbvGrd  \n",
      "0             8  \n",
      "1             6  \n",
      "2             6  \n",
      "3             7  \n",
      "4             9  \n"
     ]
    }
   ],
   "source": [
    "# Review data\n",
    "# print description or statistics from X\n",
    "print(X.describe())\n",
    "\n",
    "# print the top few lines\n",
    "print(X.head())"
   ]
  },
  {
   "cell_type": "markdown",
   "id": "4a6b0ff7",
   "metadata": {
    "papermill": {
     "duration": 0.006566,
     "end_time": "2022-06-26T15:33:41.973200",
     "exception": false,
     "start_time": "2022-06-26T15:33:41.966634",
     "status": "completed"
    },
    "tags": []
   },
   "source": [
    "## Step 3: Specify and Fit Model\n",
    "Create a `DecisionTreeRegressor` and save it iowa_model. Ensure you've done the relevant import from sklearn to run this command.\n",
    "\n",
    "Then fit the model you just created using the data in `X` and `y` that you saved above."
   ]
  },
  {
   "cell_type": "code",
   "execution_count": 8,
   "id": "e8173a3e",
   "metadata": {
    "execution": {
     "iopub.execute_input": "2022-06-26T15:33:41.988642Z",
     "iopub.status.busy": "2022-06-26T15:33:41.987980Z",
     "iopub.status.idle": "2022-06-26T15:33:42.007964Z",
     "shell.execute_reply": "2022-06-26T15:33:42.006905Z"
    },
    "papermill": {
     "duration": 0.030169,
     "end_time": "2022-06-26T15:33:42.010063",
     "exception": false,
     "start_time": "2022-06-26T15:33:41.979894",
     "status": "completed"
    },
    "tags": []
   },
   "outputs": [
    {
     "data": {
      "application/javascript": [
       "parent.postMessage({\"jupyterEvent\": \"custom.exercise_interaction\", \"data\": {\"outcomeType\": 1, \"valueTowardsCompletion\": 0.25, \"interactionType\": 1, \"questionType\": 2, \"questionId\": \"3_CreateModel\", \"learnToolsVersion\": \"0.3.4\", \"failureMessage\": \"\", \"exceptionClass\": \"\", \"trace\": \"\"}}, \"*\")"
      ],
      "text/plain": [
       "<IPython.core.display.Javascript object>"
      ]
     },
     "metadata": {},
     "output_type": "display_data"
    },
    {
     "data": {
      "text/markdown": [
       "<span style=\"color:#33cc33\">Correct</span>"
      ],
      "text/plain": [
       "Correct"
      ]
     },
     "metadata": {},
     "output_type": "display_data"
    }
   ],
   "source": [
    "from sklearn.tree import DecisionTreeRegressor\n",
    "#specify the model. \n",
    "#For model reproducibility, set a numeric value for random_state when specifying the model\n",
    "iowa_model = DecisionTreeRegressor(random_state = 1)\n",
    "\n",
    "# Fit the model\n",
    "iowa_model.fit(X,y)\n",
    "\n",
    "# Check your answer\n",
    "step_3.check()"
   ]
  },
  {
   "cell_type": "code",
   "execution_count": 9,
   "id": "f795497e",
   "metadata": {
    "collapsed": true,
    "execution": {
     "iopub.execute_input": "2022-06-26T15:33:42.025743Z",
     "iopub.status.busy": "2022-06-26T15:33:42.025332Z",
     "iopub.status.idle": "2022-06-26T15:33:42.029515Z",
     "shell.execute_reply": "2022-06-26T15:33:42.028406Z"
    },
    "jupyter": {
     "outputs_hidden": true
    },
    "papermill": {
     "duration": 0.014829,
     "end_time": "2022-06-26T15:33:42.031784",
     "exception": false,
     "start_time": "2022-06-26T15:33:42.016955",
     "status": "completed"
    },
    "tags": []
   },
   "outputs": [],
   "source": [
    "# step_3.hint()\n",
    "# step_3.solution()"
   ]
  },
  {
   "cell_type": "markdown",
   "id": "249897d7",
   "metadata": {
    "papermill": {
     "duration": 0.006628,
     "end_time": "2022-06-26T15:33:42.045405",
     "exception": false,
     "start_time": "2022-06-26T15:33:42.038777",
     "status": "completed"
    },
    "tags": []
   },
   "source": [
    "## Step 4: Make Predictions\n",
    "Make predictions with the model's `predict` command using `X` as the data. Save the results to a variable called `predictions`."
   ]
  },
  {
   "cell_type": "code",
   "execution_count": 10,
   "id": "0068ccf8",
   "metadata": {
    "execution": {
     "iopub.execute_input": "2022-06-26T15:33:42.061628Z",
     "iopub.status.busy": "2022-06-26T15:33:42.061238Z",
     "iopub.status.idle": "2022-06-26T15:33:42.077251Z",
     "shell.execute_reply": "2022-06-26T15:33:42.076288Z"
    },
    "papermill": {
     "duration": 0.026981,
     "end_time": "2022-06-26T15:33:42.079804",
     "exception": false,
     "start_time": "2022-06-26T15:33:42.052823",
     "status": "completed"
    },
    "tags": []
   },
   "outputs": [
    {
     "name": "stdout",
     "output_type": "stream",
     "text": [
      "[208500. 181500. 223500. ... 266500. 142125. 147500.]\n"
     ]
    },
    {
     "data": {
      "application/javascript": [
       "parent.postMessage({\"jupyterEvent\": \"custom.exercise_interaction\", \"data\": {\"outcomeType\": 1, \"valueTowardsCompletion\": 0.25, \"interactionType\": 1, \"questionType\": 2, \"questionId\": \"4_MakePredictions\", \"learnToolsVersion\": \"0.3.4\", \"failureMessage\": \"\", \"exceptionClass\": \"\", \"trace\": \"\"}}, \"*\")"
      ],
      "text/plain": [
       "<IPython.core.display.Javascript object>"
      ]
     },
     "metadata": {},
     "output_type": "display_data"
    },
    {
     "data": {
      "text/markdown": [
       "<span style=\"color:#33cc33\">Correct</span>"
      ],
      "text/plain": [
       "Correct"
      ]
     },
     "metadata": {},
     "output_type": "display_data"
    }
   ],
   "source": [
    "predictions = iowa_model.predict(X)\n",
    "print(predictions)\n",
    "\n",
    "# Check your answer\n",
    "step_4.check()"
   ]
  },
  {
   "cell_type": "code",
   "execution_count": 11,
   "id": "4e72fa76",
   "metadata": {
    "collapsed": true,
    "execution": {
     "iopub.execute_input": "2022-06-26T15:33:42.098871Z",
     "iopub.status.busy": "2022-06-26T15:33:42.097374Z",
     "iopub.status.idle": "2022-06-26T15:33:42.102194Z",
     "shell.execute_reply": "2022-06-26T15:33:42.101417Z"
    },
    "jupyter": {
     "outputs_hidden": true
    },
    "papermill": {
     "duration": 0.016915,
     "end_time": "2022-06-26T15:33:42.104215",
     "exception": false,
     "start_time": "2022-06-26T15:33:42.087300",
     "status": "completed"
    },
    "tags": []
   },
   "outputs": [],
   "source": [
    "# step_4.hint()\n",
    "# step_4.solution()"
   ]
  },
  {
   "cell_type": "markdown",
   "id": "35bbcdbe",
   "metadata": {
    "papermill": {
     "duration": 0.00714,
     "end_time": "2022-06-26T15:33:42.118797",
     "exception": false,
     "start_time": "2022-06-26T15:33:42.111657",
     "status": "completed"
    },
    "tags": []
   },
   "source": [
    "## Think About Your Results\n",
    "\n",
    "Use the `head` method to compare the top few predictions to the actual home values (in `y`) for those same homes. Anything surprising?\n"
   ]
  },
  {
   "cell_type": "code",
   "execution_count": 12,
   "id": "58694832",
   "metadata": {
    "execution": {
     "iopub.execute_input": "2022-06-26T15:33:42.136309Z",
     "iopub.status.busy": "2022-06-26T15:33:42.135338Z",
     "iopub.status.idle": "2022-06-26T15:33:42.142879Z",
     "shell.execute_reply": "2022-06-26T15:33:42.142000Z"
    },
    "papermill": {
     "duration": 0.018639,
     "end_time": "2022-06-26T15:33:42.144853",
     "exception": false,
     "start_time": "2022-06-26T15:33:42.126214",
     "status": "completed"
    },
    "tags": []
   },
   "outputs": [
    {
     "data": {
      "text/plain": [
       "0    208500\n",
       "1    181500\n",
       "2    223500\n",
       "3    140000\n",
       "4    250000\n",
       "Name: SalePrice, dtype: int64"
      ]
     },
     "execution_count": 12,
     "metadata": {},
     "output_type": "execute_result"
    }
   ],
   "source": [
    "# You can write code in this cell\n",
    "y.head()"
   ]
  },
  {
   "cell_type": "markdown",
   "id": "7569bcc3",
   "metadata": {
    "papermill": {
     "duration": 0.007368,
     "end_time": "2022-06-26T15:33:42.159548",
     "exception": false,
     "start_time": "2022-06-26T15:33:42.152180",
     "status": "completed"
    },
    "tags": []
   },
   "source": [
    "It's natural to ask how accurate the model's predictions will be and how you can improve that. That will be you're next step.\n",
    "\n",
    "# Keep Going\n",
    "\n",
    "You are ready for **[Model Validation](https://www.kaggle.com/dansbecker/model-validation).**\n"
   ]
  },
  {
   "cell_type": "markdown",
   "id": "b3a7df78",
   "metadata": {
    "papermill": {
     "duration": 0.007258,
     "end_time": "2022-06-26T15:33:42.174395",
     "exception": false,
     "start_time": "2022-06-26T15:33:42.167137",
     "status": "completed"
    },
    "tags": []
   },
   "source": [
    "---\n",
    "\n",
    "\n",
    "\n",
    "\n",
    "*Have questions or comments? Visit the [course discussion forum](https://www.kaggle.com/learn/intro-to-machine-learning/discussion) to chat with other learners.*"
   ]
  }
 ],
 "metadata": {
  "kernelspec": {
   "display_name": "Python 3",
   "language": "python",
   "name": "python3"
  },
  "language_info": {
   "codemirror_mode": {
    "name": "ipython",
    "version": 3
   },
   "file_extension": ".py",
   "mimetype": "text/x-python",
   "name": "python",
   "nbconvert_exporter": "python",
   "pygments_lexer": "ipython3",
   "version": "3.7.12"
  },
  "papermill": {
   "default_parameters": {},
   "duration": 13.005116,
   "end_time": "2022-06-26T15:33:43.206596",
   "environment_variables": {},
   "exception": null,
   "input_path": "__notebook__.ipynb",
   "output_path": "__notebook__.ipynb",
   "parameters": {},
   "start_time": "2022-06-26T15:33:30.201480",
   "version": "2.3.4"
  }
 },
 "nbformat": 4,
 "nbformat_minor": 5
}
