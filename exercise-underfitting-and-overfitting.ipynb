{
 "cells": [
  {
   "cell_type": "markdown",
   "id": "48abaa0d",
   "metadata": {
    "papermill": {
     "duration": 0.005006,
     "end_time": "2022-06-26T16:04:23.406142",
     "exception": false,
     "start_time": "2022-06-26T16:04:23.401136",
     "status": "completed"
    },
    "tags": []
   },
   "source": [
    "**This notebook is an exercise in the [Introduction to Machine Learning](https://www.kaggle.com/learn/intro-to-machine-learning) course.  You can reference the tutorial at [this link](https://www.kaggle.com/dansbecker/underfitting-and-overfitting).**\n",
    "\n",
    "---\n"
   ]
  },
  {
   "cell_type": "markdown",
   "id": "d640076a",
   "metadata": {
    "papermill": {
     "duration": 0.003781,
     "end_time": "2022-06-26T16:04:23.414236",
     "exception": false,
     "start_time": "2022-06-26T16:04:23.410455",
     "status": "completed"
    },
    "tags": []
   },
   "source": [
    "## Recap\n",
    "You've built your first model, and now it's time to optimize the size of the tree to make better predictions. Run this cell to set up your coding environment where the previous step left off."
   ]
  },
  {
   "cell_type": "code",
   "execution_count": 1,
   "id": "bfc830a2",
   "metadata": {
    "execution": {
     "iopub.execute_input": "2022-06-26T16:04:23.425946Z",
     "iopub.status.busy": "2022-06-26T16:04:23.425136Z",
     "iopub.status.idle": "2022-06-26T16:04:25.096186Z",
     "shell.execute_reply": "2022-06-26T16:04:25.094887Z"
    },
    "papermill": {
     "duration": 1.681139,
     "end_time": "2022-06-26T16:04:25.100126",
     "exception": false,
     "start_time": "2022-06-26T16:04:23.418987",
     "status": "completed"
    },
    "tags": []
   },
   "outputs": [
    {
     "name": "stdout",
     "output_type": "stream",
     "text": [
      "Validation MAE: 29,653\n",
      "\n",
      "Setup complete\n"
     ]
    }
   ],
   "source": [
    "# Code you have previously used to load data\n",
    "import pandas as pd\n",
    "from sklearn.metrics import mean_absolute_error\n",
    "from sklearn.model_selection import train_test_split\n",
    "from sklearn.tree import DecisionTreeRegressor\n",
    "\n",
    "\n",
    "# Path of the file to read\n",
    "iowa_file_path = '../input/home-data-for-ml-course/train.csv'\n",
    "\n",
    "home_data = pd.read_csv(iowa_file_path)\n",
    "# Create target object and call it y\n",
    "y = home_data.SalePrice\n",
    "# Create X\n",
    "features = ['LotArea', 'YearBuilt', '1stFlrSF', '2ndFlrSF', 'FullBath', 'BedroomAbvGr', 'TotRmsAbvGrd']\n",
    "X = home_data[features]\n",
    "\n",
    "# Split into validation and training data\n",
    "train_X, val_X, train_y, val_y = train_test_split(X, y, random_state=1)\n",
    "\n",
    "# Specify Model\n",
    "iowa_model = DecisionTreeRegressor(random_state=1)\n",
    "# Fit Model\n",
    "iowa_model.fit(train_X, train_y)\n",
    "\n",
    "# Make validation predictions and calculate mean absolute error\n",
    "val_predictions = iowa_model.predict(val_X)\n",
    "val_mae = mean_absolute_error(val_predictions, val_y)\n",
    "print(\"Validation MAE: {:,.0f}\".format(val_mae))\n",
    "\n",
    "# Set up code checking\n",
    "from learntools.core import binder\n",
    "binder.bind(globals())\n",
    "from learntools.machine_learning.ex5 import *\n",
    "print(\"\\nSetup complete\")"
   ]
  },
  {
   "cell_type": "markdown",
   "id": "a16d3990",
   "metadata": {
    "papermill": {
     "duration": 0.003732,
     "end_time": "2022-06-26T16:04:25.108360",
     "exception": false,
     "start_time": "2022-06-26T16:04:25.104628",
     "status": "completed"
    },
    "tags": []
   },
   "source": [
    "# Exercises\n",
    "You could write the function `get_mae` yourself. For now, we'll supply it. This is the same function you read about in the previous lesson. Just run the cell below."
   ]
  },
  {
   "cell_type": "code",
   "execution_count": 2,
   "id": "50279803",
   "metadata": {
    "execution": {
     "iopub.execute_input": "2022-06-26T16:04:25.119663Z",
     "iopub.status.busy": "2022-06-26T16:04:25.119198Z",
     "iopub.status.idle": "2022-06-26T16:04:25.126659Z",
     "shell.execute_reply": "2022-06-26T16:04:25.125615Z"
    },
    "papermill": {
     "duration": 0.016521,
     "end_time": "2022-06-26T16:04:25.129415",
     "exception": false,
     "start_time": "2022-06-26T16:04:25.112894",
     "status": "completed"
    },
    "tags": []
   },
   "outputs": [],
   "source": [
    "def get_mae(max_leaf_nodes, train_X, val_X, train_y, val_y):\n",
    "    model = DecisionTreeRegressor(max_leaf_nodes=max_leaf_nodes, random_state=0)\n",
    "    model.fit(train_X, train_y)\n",
    "    preds_val = model.predict(val_X)\n",
    "    mae = mean_absolute_error(val_y, preds_val)\n",
    "    return(mae)"
   ]
  },
  {
   "cell_type": "markdown",
   "id": "51cc7114",
   "metadata": {
    "papermill": {
     "duration": 0.0039,
     "end_time": "2022-06-26T16:04:25.137831",
     "exception": false,
     "start_time": "2022-06-26T16:04:25.133931",
     "status": "completed"
    },
    "tags": []
   },
   "source": [
    "## Step 1: Compare Different Tree Sizes\n",
    "Write a loop that tries the following values for *max_leaf_nodes* from a set of possible values.\n",
    "\n",
    "Call the *get_mae* function on each value of max_leaf_nodes. Store the output in some way that allows you to select the value of `max_leaf_nodes` that gives the most accurate model on your data."
   ]
  },
  {
   "cell_type": "code",
   "execution_count": 3,
   "id": "c1cae395",
   "metadata": {
    "execution": {
     "iopub.execute_input": "2022-06-26T16:04:25.148053Z",
     "iopub.status.busy": "2022-06-26T16:04:25.146839Z",
     "iopub.status.idle": "2022-06-26T16:04:25.199193Z",
     "shell.execute_reply": "2022-06-26T16:04:25.197984Z"
    },
    "papermill": {
     "duration": 0.060025,
     "end_time": "2022-06-26T16:04:25.201813",
     "exception": false,
     "start_time": "2022-06-26T16:04:25.141788",
     "status": "completed"
    },
    "tags": []
   },
   "outputs": [
    {
     "data": {
      "application/javascript": [
       "parent.postMessage({\"jupyterEvent\": \"custom.exercise_interaction\", \"data\": {\"outcomeType\": 1, \"valueTowardsCompletion\": 0.5, \"interactionType\": 1, \"questionType\": 1, \"questionId\": \"1_BestTreeSize\", \"learnToolsVersion\": \"0.3.4\", \"failureMessage\": \"\", \"exceptionClass\": \"\", \"trace\": \"\"}}, \"*\")"
      ],
      "text/plain": [
       "<IPython.core.display.Javascript object>"
      ]
     },
     "metadata": {},
     "output_type": "display_data"
    },
    {
     "data": {
      "text/markdown": [
       "<span style=\"color:#33cc33\">Correct</span>"
      ],
      "text/plain": [
       "Correct"
      ]
     },
     "metadata": {},
     "output_type": "display_data"
    }
   ],
   "source": [
    "candidate_max_leaf_nodes = [5, 25, 50, 100, 250, 500]\n",
    "# Write loop to find the ideal tree size from candidate_max_leaf_nodes\n",
    "best_mae = 10000000000000000\n",
    "for max_leaf_nodes in candidate_max_leaf_nodes:\n",
    "    my_mae = get_mae(max_leaf_nodes, train_X, val_X, train_y, val_y)\n",
    "    if (best_mae > my_mae):\n",
    "        best_mae = my_mae\n",
    "        best_nodes = max_leaf_nodes\n",
    "\n",
    "# Store the best value of max_leaf_nodes (it will be either 5, 25, 50, 100, 250 or 500)\n",
    "best_tree_size = best_nodes\n",
    "\n",
    "# Check your answer\n",
    "step_1.check()"
   ]
  },
  {
   "cell_type": "code",
   "execution_count": 4,
   "id": "c91e9212",
   "metadata": {
    "execution": {
     "iopub.execute_input": "2022-06-26T16:04:25.213876Z",
     "iopub.status.busy": "2022-06-26T16:04:25.213457Z",
     "iopub.status.idle": "2022-06-26T16:04:25.218517Z",
     "shell.execute_reply": "2022-06-26T16:04:25.216966Z"
    },
    "papermill": {
     "duration": 0.014597,
     "end_time": "2022-06-26T16:04:25.221194",
     "exception": false,
     "start_time": "2022-06-26T16:04:25.206597",
     "status": "completed"
    },
    "tags": []
   },
   "outputs": [],
   "source": [
    "# The lines below will show you a hint or the solution.\n",
    "# step_1.hint() \n",
    "# step_1.solution()"
   ]
  },
  {
   "cell_type": "markdown",
   "id": "e56515d9",
   "metadata": {
    "papermill": {
     "duration": 0.004072,
     "end_time": "2022-06-26T16:04:25.229642",
     "exception": false,
     "start_time": "2022-06-26T16:04:25.225570",
     "status": "completed"
    },
    "tags": []
   },
   "source": [
    "## Step 2: Fit Model Using All Data\n",
    "You know the best tree size. If you were going to deploy this model in practice, you would make it even more accurate by using all of the data and keeping that tree size.  That is, you don't need to hold out the validation data now that you've made all your modeling decisions."
   ]
  },
  {
   "cell_type": "code",
   "execution_count": 5,
   "id": "0633369f",
   "metadata": {
    "execution": {
     "iopub.execute_input": "2022-06-26T16:04:25.240552Z",
     "iopub.status.busy": "2022-06-26T16:04:25.239984Z",
     "iopub.status.idle": "2022-06-26T16:04:25.258118Z",
     "shell.execute_reply": "2022-06-26T16:04:25.256905Z"
    },
    "papermill": {
     "duration": 0.026536,
     "end_time": "2022-06-26T16:04:25.260531",
     "exception": false,
     "start_time": "2022-06-26T16:04:25.233995",
     "status": "completed"
    },
    "tags": []
   },
   "outputs": [
    {
     "data": {
      "application/javascript": [
       "parent.postMessage({\"jupyterEvent\": \"custom.exercise_interaction\", \"data\": {\"outcomeType\": 1, \"valueTowardsCompletion\": 0.5, \"interactionType\": 1, \"questionType\": 2, \"questionId\": \"2_FitModelWithAllData\", \"learnToolsVersion\": \"0.3.4\", \"failureMessage\": \"\", \"exceptionClass\": \"\", \"trace\": \"\"}}, \"*\")"
      ],
      "text/plain": [
       "<IPython.core.display.Javascript object>"
      ]
     },
     "metadata": {},
     "output_type": "display_data"
    },
    {
     "data": {
      "text/markdown": [
       "<span style=\"color:#33cc33\">Correct</span>"
      ],
      "text/plain": [
       "Correct"
      ]
     },
     "metadata": {},
     "output_type": "display_data"
    }
   ],
   "source": [
    "# Fill in argument to make optimal size and uncomment\n",
    "final_model = DecisionTreeRegressor(max_leaf_nodes = best_nodes, random_state = 0)\n",
    "\n",
    "# fit the final model and uncomment the next two lines\n",
    "final_model.fit(X, y)\n",
    "\n",
    "# Check your answer\n",
    "step_2.check()"
   ]
  },
  {
   "cell_type": "code",
   "execution_count": 6,
   "id": "6f2faacc",
   "metadata": {
    "execution": {
     "iopub.execute_input": "2022-06-26T16:04:25.272335Z",
     "iopub.status.busy": "2022-06-26T16:04:25.271931Z",
     "iopub.status.idle": "2022-06-26T16:04:25.276894Z",
     "shell.execute_reply": "2022-06-26T16:04:25.275939Z"
    },
    "papermill": {
     "duration": 0.013506,
     "end_time": "2022-06-26T16:04:25.279215",
     "exception": false,
     "start_time": "2022-06-26T16:04:25.265709",
     "status": "completed"
    },
    "tags": []
   },
   "outputs": [],
   "source": [
    "# step_2.hint()\n",
    "# step_2.solution()"
   ]
  },
  {
   "cell_type": "markdown",
   "id": "7360b4f5",
   "metadata": {
    "papermill": {
     "duration": 0.004581,
     "end_time": "2022-06-26T16:04:25.288545",
     "exception": false,
     "start_time": "2022-06-26T16:04:25.283964",
     "status": "completed"
    },
    "tags": []
   },
   "source": [
    "You've tuned this model and improved your results. But we are still using Decision Tree models, which are not very sophisticated by modern machine learning standards. In the next step you will learn to use Random Forests to improve your models even more.\n",
    "\n",
    "# Keep Going\n",
    "\n",
    "You are ready for **[Random Forests](https://www.kaggle.com/dansbecker/random-forests).**\n"
   ]
  },
  {
   "cell_type": "markdown",
   "id": "6530da8b",
   "metadata": {
    "papermill": {
     "duration": 0.004728,
     "end_time": "2022-06-26T16:04:25.298179",
     "exception": false,
     "start_time": "2022-06-26T16:04:25.293451",
     "status": "completed"
    },
    "tags": []
   },
   "source": [
    "---\n",
    "\n",
    "\n",
    "\n",
    "\n",
    "*Have questions or comments? Visit the [course discussion forum](https://www.kaggle.com/learn/intro-to-machine-learning/discussion) to chat with other learners.*"
   ]
  }
 ],
 "metadata": {
  "kernelspec": {
   "display_name": "Python 3",
   "language": "python",
   "name": "python3"
  },
  "language_info": {
   "codemirror_mode": {
    "name": "ipython",
    "version": 3
   },
   "file_extension": ".py",
   "mimetype": "text/x-python",
   "name": "python",
   "nbconvert_exporter": "python",
   "pygments_lexer": "ipython3",
   "version": "3.7.12"
  },
  "papermill": {
   "default_parameters": {},
   "duration": 16.86034,
   "end_time": "2022-06-26T16:04:28.593378",
   "environment_variables": {},
   "exception": null,
   "input_path": "__notebook__.ipynb",
   "output_path": "__notebook__.ipynb",
   "parameters": {},
   "start_time": "2022-06-26T16:04:11.733038",
   "version": "2.3.4"
  }
 },
 "nbformat": 4,
 "nbformat_minor": 5
}
