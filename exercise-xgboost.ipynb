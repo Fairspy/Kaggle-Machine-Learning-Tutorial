{
 "cells": [
  {
   "cell_type": "markdown",
   "id": "080f09dd",
   "metadata": {
    "papermill": {
     "duration": 0.005002,
     "end_time": "2022-06-28T14:21:08.197319",
     "exception": false,
     "start_time": "2022-06-28T14:21:08.192317",
     "status": "completed"
    },
    "tags": []
   },
   "source": [
    "**This notebook is an exercise in the [Intermediate Machine Learning](https://www.kaggle.com/learn/intermediate-machine-learning) course.  You can reference the tutorial at [this link](https://www.kaggle.com/alexisbcook/xgboost).**\n",
    "\n",
    "---\n"
   ]
  },
  {
   "cell_type": "markdown",
   "id": "8f0b946f",
   "metadata": {
    "papermill": {
     "duration": 0.004198,
     "end_time": "2022-06-28T14:21:08.206047",
     "exception": false,
     "start_time": "2022-06-28T14:21:08.201849",
     "status": "completed"
    },
    "tags": []
   },
   "source": [
    "In this exercise, you will use your new knowledge to train a model with **gradient boosting**.\n",
    "\n",
    "# Setup\n",
    "\n",
    "The questions below will give you feedback on your work. Run the following cell to set up the feedback system."
   ]
  },
  {
   "cell_type": "code",
   "execution_count": 1,
   "id": "0f0031c6",
   "metadata": {
    "execution": {
     "iopub.execute_input": "2022-06-28T14:21:08.216745Z",
     "iopub.status.busy": "2022-06-28T14:21:08.216285Z",
     "iopub.status.idle": "2022-06-28T14:21:10.611754Z",
     "shell.execute_reply": "2022-06-28T14:21:10.610053Z"
    },
    "papermill": {
     "duration": 2.405193,
     "end_time": "2022-06-28T14:21:10.615651",
     "exception": false,
     "start_time": "2022-06-28T14:21:08.210458",
     "status": "completed"
    },
    "tags": []
   },
   "outputs": [
    {
     "name": "stdout",
     "output_type": "stream",
     "text": [
      "Setup Complete\n"
     ]
    }
   ],
   "source": [
    "# Set up code checking\n",
    "import os\n",
    "if not os.path.exists(\"../input/train.csv\"):\n",
    "    os.symlink(\"../input/home-data-for-ml-course/train.csv\", \"../input/train.csv\")  \n",
    "    os.symlink(\"../input/home-data-for-ml-course/test.csv\", \"../input/test.csv\") \n",
    "from learntools.core import binder\n",
    "binder.bind(globals())\n",
    "from learntools.ml_intermediate.ex6 import *\n",
    "print(\"Setup Complete\")"
   ]
  },
  {
   "cell_type": "markdown",
   "id": "b1666a46",
   "metadata": {
    "papermill": {
     "duration": 0.006827,
     "end_time": "2022-06-28T14:21:10.630459",
     "exception": false,
     "start_time": "2022-06-28T14:21:10.623632",
     "status": "completed"
    },
    "tags": []
   },
   "source": [
    "You will work with the [Housing Prices Competition for Kaggle Learn Users](https://www.kaggle.com/c/home-data-for-ml-course) dataset from the previous exercise. \n",
    "\n",
    "![Ames Housing dataset image](https://i.imgur.com/lTJVG4e.png)\n",
    "\n",
    "Run the next code cell without changes to load the training and validation sets in `X_train`, `X_valid`, `y_train`, and `y_valid`.  The test set is loaded in `X_test`."
   ]
  },
  {
   "cell_type": "code",
   "execution_count": 2,
   "id": "bd481188",
   "metadata": {
    "execution": {
     "iopub.execute_input": "2022-06-28T14:21:10.646344Z",
     "iopub.status.busy": "2022-06-28T14:21:10.645693Z",
     "iopub.status.idle": "2022-06-28T14:21:10.810935Z",
     "shell.execute_reply": "2022-06-28T14:21:10.809985Z"
    },
    "papermill": {
     "duration": 0.175734,
     "end_time": "2022-06-28T14:21:10.813224",
     "exception": false,
     "start_time": "2022-06-28T14:21:10.637490",
     "status": "completed"
    },
    "tags": []
   },
   "outputs": [],
   "source": [
    "import pandas as pd\n",
    "from sklearn.model_selection import train_test_split\n",
    "\n",
    "# Read the data\n",
    "X = pd.read_csv('../input/train.csv', index_col='Id')\n",
    "X_test_full = pd.read_csv('../input/test.csv', index_col='Id')\n",
    "\n",
    "# Remove rows with missing target, separate target from predictors\n",
    "X.dropna(axis=0, subset=['SalePrice'], inplace=True)\n",
    "y = X.SalePrice              \n",
    "X.drop(['SalePrice'], axis=1, inplace=True)\n",
    "\n",
    "# Break off validation set from training data\n",
    "X_train_full, X_valid_full, y_train, y_valid = train_test_split(X, y, train_size=0.8, test_size=0.2,\n",
    "                                                                random_state=0)\n",
    "\n",
    "# \"Cardinality\" means the number of unique values in a column\n",
    "# Select categorical columns with relatively low cardinality (convenient but arbitrary)\n",
    "low_cardinality_cols = [cname for cname in X_train_full.columns if X_train_full[cname].nunique() < 10 and \n",
    "                        X_train_full[cname].dtype == \"object\"]\n",
    "\n",
    "# Select numeric columns\n",
    "numeric_cols = [cname for cname in X_train_full.columns if X_train_full[cname].dtype in ['int64', 'float64']]\n",
    "\n",
    "# Keep selected columns only\n",
    "my_cols = low_cardinality_cols + numeric_cols\n",
    "X_train = X_train_full[my_cols].copy()\n",
    "X_valid = X_valid_full[my_cols].copy()\n",
    "X_test = X_test_full[my_cols].copy()\n",
    "\n",
    "# One-hot encode the data (to shorten the code, we use pandas)\n",
    "X_train = pd.get_dummies(X_train)\n",
    "X_valid = pd.get_dummies(X_valid)\n",
    "X_test = pd.get_dummies(X_test)\n",
    "X_train, X_valid = X_train.align(X_valid, join='left', axis=1)\n",
    "X_train, X_test = X_train.align(X_test, join='left', axis=1)"
   ]
  },
  {
   "cell_type": "markdown",
   "id": "c7dfeebd",
   "metadata": {
    "papermill": {
     "duration": 0.003769,
     "end_time": "2022-06-28T14:21:10.821215",
     "exception": false,
     "start_time": "2022-06-28T14:21:10.817446",
     "status": "completed"
    },
    "tags": []
   },
   "source": [
    "# Step 1: Build model\n",
    "\n",
    "### Part A\n",
    "\n",
    "In this step, you'll build and train your first model with gradient boosting.\n",
    "\n",
    "- Begin by setting `my_model_1` to an XGBoost model.  Use the [XGBRegressor](https://xgboost.readthedocs.io/en/latest/python/python_api.html#xgboost.XGBRegressor) class, and set the random seed to 0 (`random_state=0`).  **Leave all other parameters as default.**\n",
    "- Then, fit the model to the training data in `X_train` and `y_train`."
   ]
  },
  {
   "cell_type": "code",
   "execution_count": 3,
   "id": "e5b6b1cf",
   "metadata": {
    "execution": {
     "iopub.execute_input": "2022-06-28T14:21:10.831036Z",
     "iopub.status.busy": "2022-06-28T14:21:10.830701Z",
     "iopub.status.idle": "2022-06-28T14:21:11.614879Z",
     "shell.execute_reply": "2022-06-28T14:21:11.613641Z"
    },
    "papermill": {
     "duration": 0.79252,
     "end_time": "2022-06-28T14:21:11.617510",
     "exception": false,
     "start_time": "2022-06-28T14:21:10.824990",
     "status": "completed"
    },
    "tags": []
   },
   "outputs": [
    {
     "data": {
      "application/javascript": [
       "parent.postMessage({\"jupyterEvent\": \"custom.exercise_interaction\", \"data\": {\"outcomeType\": 1, \"valueTowardsCompletion\": 0.5, \"interactionType\": 1, \"questionType\": 2, \"questionId\": \"1.1_Model1A\", \"learnToolsVersion\": \"0.3.4\", \"failureMessage\": \"\", \"exceptionClass\": \"\", \"trace\": \"\"}}, \"*\")"
      ],
      "text/plain": [
       "<IPython.core.display.Javascript object>"
      ]
     },
     "metadata": {},
     "output_type": "display_data"
    },
    {
     "data": {
      "text/markdown": [
       "<span style=\"color:#33cc33\">Correct</span>"
      ],
      "text/plain": [
       "Correct"
      ]
     },
     "metadata": {},
     "output_type": "display_data"
    }
   ],
   "source": [
    "from xgboost import XGBRegressor\n",
    "\n",
    "# Define the model\n",
    "my_model_1 = XGBRegressor(random_state = 0) # Your code here\n",
    "\n",
    "# Fit the model\n",
    "my_model_1.fit(X_train, y_train) # Your code here\n",
    "\n",
    "# Check your answer\n",
    "step_1.a.check()"
   ]
  },
  {
   "cell_type": "code",
   "execution_count": 4,
   "id": "026d5384",
   "metadata": {
    "execution": {
     "iopub.execute_input": "2022-06-28T14:21:11.633191Z",
     "iopub.status.busy": "2022-06-28T14:21:11.632809Z",
     "iopub.status.idle": "2022-06-28T14:21:11.637353Z",
     "shell.execute_reply": "2022-06-28T14:21:11.636286Z"
    },
    "papermill": {
     "duration": 0.014613,
     "end_time": "2022-06-28T14:21:11.639352",
     "exception": false,
     "start_time": "2022-06-28T14:21:11.624739",
     "status": "completed"
    },
    "tags": []
   },
   "outputs": [],
   "source": [
    "# Lines below will give you a hint or solution code\n",
    "#step_1.a.hint()\n",
    "#step_1.a.solution()"
   ]
  },
  {
   "cell_type": "markdown",
   "id": "48d40e6a",
   "metadata": {
    "papermill": {
     "duration": 0.006517,
     "end_time": "2022-06-28T14:21:11.652911",
     "exception": false,
     "start_time": "2022-06-28T14:21:11.646394",
     "status": "completed"
    },
    "tags": []
   },
   "source": [
    "### Part B\n",
    "\n",
    "Set `predictions_1` to the model's predictions for the validation data.  Recall that the validation features are stored in `X_valid`."
   ]
  },
  {
   "cell_type": "code",
   "execution_count": 5,
   "id": "b7f00d08",
   "metadata": {
    "execution": {
     "iopub.execute_input": "2022-06-28T14:21:11.668007Z",
     "iopub.status.busy": "2022-06-28T14:21:11.667674Z",
     "iopub.status.idle": "2022-06-28T14:21:11.693399Z",
     "shell.execute_reply": "2022-06-28T14:21:11.692650Z"
    },
    "papermill": {
     "duration": 0.036024,
     "end_time": "2022-06-28T14:21:11.695755",
     "exception": false,
     "start_time": "2022-06-28T14:21:11.659731",
     "status": "completed"
    },
    "tags": []
   },
   "outputs": [
    {
     "data": {
      "application/javascript": [
       "parent.postMessage({\"jupyterEvent\": \"custom.exercise_interaction\", \"data\": {\"outcomeType\": 1, \"valueTowardsCompletion\": 0.5, \"interactionType\": 1, \"questionType\": 2, \"questionId\": \"1.2_Model1B\", \"learnToolsVersion\": \"0.3.4\", \"failureMessage\": \"\", \"exceptionClass\": \"\", \"trace\": \"\"}}, \"*\")"
      ],
      "text/plain": [
       "<IPython.core.display.Javascript object>"
      ]
     },
     "metadata": {},
     "output_type": "display_data"
    },
    {
     "data": {
      "text/markdown": [
       "<span style=\"color:#33cc33\">Correct</span>"
      ],
      "text/plain": [
       "Correct"
      ]
     },
     "metadata": {},
     "output_type": "display_data"
    }
   ],
   "source": [
    "from sklearn.metrics import mean_absolute_error\n",
    "\n",
    "# Get predictions\n",
    "predictions_1 = my_model_1.predict(X_valid) # Your code here\n",
    "\n",
    "# Check your answer\n",
    "step_1.b.check()"
   ]
  },
  {
   "cell_type": "code",
   "execution_count": 6,
   "id": "7a53060c",
   "metadata": {
    "execution": {
     "iopub.execute_input": "2022-06-28T14:21:11.712254Z",
     "iopub.status.busy": "2022-06-28T14:21:11.711477Z",
     "iopub.status.idle": "2022-06-28T14:21:11.719211Z",
     "shell.execute_reply": "2022-06-28T14:21:11.717795Z"
    },
    "papermill": {
     "duration": 0.019058,
     "end_time": "2022-06-28T14:21:11.722119",
     "exception": false,
     "start_time": "2022-06-28T14:21:11.703061",
     "status": "completed"
    },
    "tags": []
   },
   "outputs": [],
   "source": [
    "# Lines below will give you a hint or solution code\n",
    "#step_1.b.hint()\n",
    "#step_1.b.solution()"
   ]
  },
  {
   "cell_type": "markdown",
   "id": "482f3e3d",
   "metadata": {
    "papermill": {
     "duration": 0.006631,
     "end_time": "2022-06-28T14:21:11.735962",
     "exception": false,
     "start_time": "2022-06-28T14:21:11.729331",
     "status": "completed"
    },
    "tags": []
   },
   "source": [
    "### Part C\n",
    "\n",
    "Finally, use the `mean_absolute_error()` function to calculate the mean absolute error (MAE) corresponding to the predictions for the validation set.  Recall that the labels for the validation data are stored in `y_valid`."
   ]
  },
  {
   "cell_type": "code",
   "execution_count": 7,
   "id": "9de4d47e",
   "metadata": {
    "execution": {
     "iopub.execute_input": "2022-06-28T14:21:11.751629Z",
     "iopub.status.busy": "2022-06-28T14:21:11.751269Z",
     "iopub.status.idle": "2022-06-28T14:21:11.761961Z",
     "shell.execute_reply": "2022-06-28T14:21:11.760198Z"
    },
    "papermill": {
     "duration": 0.022319,
     "end_time": "2022-06-28T14:21:11.765229",
     "exception": false,
     "start_time": "2022-06-28T14:21:11.742910",
     "status": "completed"
    },
    "tags": []
   },
   "outputs": [
    {
     "name": "stdout",
     "output_type": "stream",
     "text": [
      "Mean Absolute Error: 17662.736729452055\n"
     ]
    },
    {
     "data": {
      "application/javascript": [
       "parent.postMessage({\"jupyterEvent\": \"custom.exercise_interaction\", \"data\": {\"outcomeType\": 1, \"valueTowardsCompletion\": 0.5, \"interactionType\": 1, \"questionType\": 2, \"questionId\": \"1.3_Model1C\", \"learnToolsVersion\": \"0.3.4\", \"failureMessage\": \"\", \"exceptionClass\": \"\", \"trace\": \"\"}}, \"*\")"
      ],
      "text/plain": [
       "<IPython.core.display.Javascript object>"
      ]
     },
     "metadata": {},
     "output_type": "display_data"
    },
    {
     "data": {
      "text/markdown": [
       "<span style=\"color:#33cc33\">Correct</span>"
      ],
      "text/plain": [
       "Correct"
      ]
     },
     "metadata": {},
     "output_type": "display_data"
    }
   ],
   "source": [
    "# Calculate MAE\n",
    "mae_1 = mean_absolute_error(y_valid,predictions_1) # Your code here\n",
    "\n",
    "# Uncomment to print MAE\n",
    "print(\"Mean Absolute Error:\" , mae_1)\n",
    "\n",
    "# Check your answer\n",
    "step_1.c.check()"
   ]
  },
  {
   "cell_type": "code",
   "execution_count": 8,
   "id": "6af5b0ae",
   "metadata": {
    "execution": {
     "iopub.execute_input": "2022-06-28T14:21:11.782417Z",
     "iopub.status.busy": "2022-06-28T14:21:11.782071Z",
     "iopub.status.idle": "2022-06-28T14:21:11.786374Z",
     "shell.execute_reply": "2022-06-28T14:21:11.785490Z"
    },
    "papermill": {
     "duration": 0.015758,
     "end_time": "2022-06-28T14:21:11.788828",
     "exception": false,
     "start_time": "2022-06-28T14:21:11.773070",
     "status": "completed"
    },
    "tags": []
   },
   "outputs": [],
   "source": [
    "# Lines below will give you a hint or solution code\n",
    "#step_1.c.hint()\n",
    "#step_1.c.solution()"
   ]
  },
  {
   "cell_type": "markdown",
   "id": "300e74e4",
   "metadata": {
    "papermill": {
     "duration": 0.007573,
     "end_time": "2022-06-28T14:21:11.804355",
     "exception": false,
     "start_time": "2022-06-28T14:21:11.796782",
     "status": "completed"
    },
    "tags": []
   },
   "source": [
    "# Step 2: Improve the model\n",
    "\n",
    "Now that you've trained a default model as baseline, it's time to tinker with the parameters, to see if you can get better performance!\n",
    "- Begin by setting `my_model_2` to an XGBoost model, using the [XGBRegressor](https://xgboost.readthedocs.io/en/latest/python/python_api.html#xgboost.XGBRegressor) class.  Use what you learned in the previous tutorial to figure out how to change the default parameters (like `n_estimators` and `learning_rate`) to get better results.\n",
    "- Then, fit the model to the training data in `X_train` and `y_train`.\n",
    "- Set `predictions_2` to the model's predictions for the validation data.  Recall that the validation features are stored in `X_valid`.\n",
    "- Finally, use the `mean_absolute_error()` function to calculate the mean absolute error (MAE) corresponding to the predictions on the validation set.  Recall that the labels for the validation data are stored in `y_valid`.\n",
    "\n",
    "In order for this step to be marked correct, your model in `my_model_2` must attain lower MAE than the model in `my_model_1`. "
   ]
  },
  {
   "cell_type": "code",
   "execution_count": 9,
   "id": "d2fd48e8",
   "metadata": {
    "execution": {
     "iopub.execute_input": "2022-06-28T14:21:11.821998Z",
     "iopub.status.busy": "2022-06-28T14:21:11.821675Z",
     "iopub.status.idle": "2022-06-28T14:21:14.052726Z",
     "shell.execute_reply": "2022-06-28T14:21:14.051922Z"
    },
    "papermill": {
     "duration": 2.242583,
     "end_time": "2022-06-28T14:21:14.054981",
     "exception": false,
     "start_time": "2022-06-28T14:21:11.812398",
     "status": "completed"
    },
    "tags": []
   },
   "outputs": [
    {
     "name": "stderr",
     "output_type": "stream",
     "text": [
      "/opt/conda/lib/python3.7/site-packages/xgboost/sklearn.py:797: UserWarning: `early_stopping_rounds` in `fit` method is deprecated for better compatibility with scikit-learn, use `early_stopping_rounds` in constructor or`set_params` instead.\n",
      "  UserWarning,\n"
     ]
    },
    {
     "name": "stdout",
     "output_type": "stream",
     "text": [
      "Mean Absolute Error: 16802.965325342466\n"
     ]
    },
    {
     "data": {
      "application/javascript": [
       "parent.postMessage({\"jupyterEvent\": \"custom.exercise_interaction\", \"data\": {\"outcomeType\": 1, \"valueTowardsCompletion\": 0.5, \"interactionType\": 1, \"questionType\": 2, \"questionId\": \"2_Model2\", \"learnToolsVersion\": \"0.3.4\", \"failureMessage\": \"\", \"exceptionClass\": \"\", \"trace\": \"\"}}, \"*\")"
      ],
      "text/plain": [
       "<IPython.core.display.Javascript object>"
      ]
     },
     "metadata": {},
     "output_type": "display_data"
    },
    {
     "data": {
      "text/markdown": [
       "<span style=\"color:#33cc33\">Correct</span>"
      ],
      "text/plain": [
       "Correct"
      ]
     },
     "metadata": {},
     "output_type": "display_data"
    }
   ],
   "source": [
    "# Define the model\n",
    "my_model_2 =  XGBRegressor(n_estimators=1000, learning_rate=0.05, n_jobs=4) # Your code here\n",
    "\n",
    "# Fit the model\n",
    "my_model_2.fit(X_train, y_train, \n",
    "             early_stopping_rounds=5, \n",
    "             eval_set=[(X_valid, y_valid)], \n",
    "             verbose=False)# Your code here\n",
    "\n",
    "# Get predictions\n",
    "predictions_2 = my_model_2.predict(X_valid) # Your code here\n",
    "\n",
    "# Calculate MAE\n",
    "mae_2 = mean_absolute_error(y_valid, predictions_2) # Your code here\n",
    "\n",
    "# Uncomment to print MAE\n",
    "print(\"Mean Absolute Error:\" , mae_2)\n",
    "\n",
    "# Check your answer\n",
    "step_2.check()"
   ]
  },
  {
   "cell_type": "code",
   "execution_count": 10,
   "id": "4837e096",
   "metadata": {
    "execution": {
     "iopub.execute_input": "2022-06-28T14:21:14.073224Z",
     "iopub.status.busy": "2022-06-28T14:21:14.072866Z",
     "iopub.status.idle": "2022-06-28T14:21:14.077190Z",
     "shell.execute_reply": "2022-06-28T14:21:14.076181Z"
    },
    "papermill": {
     "duration": 0.01572,
     "end_time": "2022-06-28T14:21:14.079274",
     "exception": false,
     "start_time": "2022-06-28T14:21:14.063554",
     "status": "completed"
    },
    "tags": []
   },
   "outputs": [],
   "source": [
    "# Lines below will give you a hint or solution code\n",
    "#step_2.hint()\n",
    "#step_2.solution()"
   ]
  },
  {
   "cell_type": "markdown",
   "id": "c909ec3b",
   "metadata": {
    "papermill": {
     "duration": 0.008515,
     "end_time": "2022-06-28T14:21:14.096084",
     "exception": false,
     "start_time": "2022-06-28T14:21:14.087569",
     "status": "completed"
    },
    "tags": []
   },
   "source": [
    "# Step 3: Break the model\n",
    "\n",
    "In this step, you will create a model that performs worse than the original model in Step 1.  This will help you to develop your intuition for how to set parameters.  You might even find that you accidentally get better performance, which is ultimately a nice problem to have and a valuable learning experience!\n",
    "- Begin by setting `my_model_3` to an XGBoost model, using the [XGBRegressor](https://xgboost.readthedocs.io/en/latest/python/python_api.html#xgboost.XGBRegressor) class.  Use what you learned in the previous tutorial to figure out how to change the default parameters (like `n_estimators` and `learning_rate`) to design a model to get high MAE.\n",
    "- Then, fit the model to the training data in `X_train` and `y_train`.\n",
    "- Set `predictions_3` to the model's predictions for the validation data.  Recall that the validation features are stored in `X_valid`.\n",
    "- Finally, use the `mean_absolute_error()` function to calculate the mean absolute error (MAE) corresponding to the predictions on the validation set.  Recall that the labels for the validation data are stored in `y_valid`.\n",
    "\n",
    "In order for this step to be marked correct, your model in `my_model_3` must attain higher MAE than the model in `my_model_1`. "
   ]
  },
  {
   "cell_type": "code",
   "execution_count": 11,
   "id": "5e48fbc9",
   "metadata": {
    "execution": {
     "iopub.execute_input": "2022-06-28T14:21:14.113502Z",
     "iopub.status.busy": "2022-06-28T14:21:14.112915Z",
     "iopub.status.idle": "2022-06-28T14:21:14.366655Z",
     "shell.execute_reply": "2022-06-28T14:21:14.365356Z"
    },
    "papermill": {
     "duration": 0.265241,
     "end_time": "2022-06-28T14:21:14.369123",
     "exception": false,
     "start_time": "2022-06-28T14:21:14.103882",
     "status": "completed"
    },
    "tags": []
   },
   "outputs": [
    {
     "name": "stderr",
     "output_type": "stream",
     "text": [
      "/opt/conda/lib/python3.7/site-packages/xgboost/sklearn.py:797: UserWarning: `early_stopping_rounds` in `fit` method is deprecated for better compatibility with scikit-learn, use `early_stopping_rounds` in constructor or`set_params` instead.\n",
      "  UserWarning,\n"
     ]
    },
    {
     "name": "stdout",
     "output_type": "stream",
     "text": [
      "Mean Absolute Error: 20487.370237585616\n"
     ]
    },
    {
     "data": {
      "application/javascript": [
       "parent.postMessage({\"jupyterEvent\": \"custom.exercise_interaction\", \"data\": {\"outcomeType\": 1, \"valueTowardsCompletion\": 0.5, \"interactionType\": 1, \"questionType\": 2, \"questionId\": \"3_Model3\", \"learnToolsVersion\": \"0.3.4\", \"failureMessage\": \"\", \"exceptionClass\": \"\", \"trace\": \"\"}}, \"*\")"
      ],
      "text/plain": [
       "<IPython.core.display.Javascript object>"
      ]
     },
     "metadata": {},
     "output_type": "display_data"
    },
    {
     "data": {
      "text/markdown": [
       "<span style=\"color:#33cc33\">Correct</span>"
      ],
      "text/plain": [
       "Correct"
      ]
     },
     "metadata": {},
     "output_type": "display_data"
    }
   ],
   "source": [
    "# Define the model\n",
    "my_model_3 = XGBRegressor(n_estimators=100, learning_rate=0.5, n_jobs=4)\n",
    "\n",
    "# Fit the model\n",
    "my_model_3.fit(X_train, y_train, \n",
    "             early_stopping_rounds=5, \n",
    "             eval_set=[(X_valid, y_valid)], \n",
    "             verbose=False) # Your code here\n",
    "\n",
    "# Get predictions\n",
    "predictions_3 = my_model_3.predict(X_valid)\n",
    "\n",
    "# Calculate MAE\n",
    "mae_3 = mean_absolute_error(y_valid, predictions_3)\n",
    "\n",
    "# Uncomment to print MAE\n",
    "print(\"Mean Absolute Error:\" , mae_3)\n",
    "\n",
    "# Check your answer\n",
    "step_3.check()"
   ]
  },
  {
   "cell_type": "code",
   "execution_count": 12,
   "id": "18a3f4f4",
   "metadata": {
    "execution": {
     "iopub.execute_input": "2022-06-28T14:21:14.388298Z",
     "iopub.status.busy": "2022-06-28T14:21:14.387943Z",
     "iopub.status.idle": "2022-06-28T14:21:14.392262Z",
     "shell.execute_reply": "2022-06-28T14:21:14.391477Z"
    },
    "papermill": {
     "duration": 0.015924,
     "end_time": "2022-06-28T14:21:14.394153",
     "exception": false,
     "start_time": "2022-06-28T14:21:14.378229",
     "status": "completed"
    },
    "tags": []
   },
   "outputs": [],
   "source": [
    "# Lines below will give you a hint or solution code\n",
    "#step_3.hint()\n",
    "#step_3.solution()"
   ]
  },
  {
   "cell_type": "markdown",
   "id": "80d10859",
   "metadata": {
    "papermill": {
     "duration": 0.008662,
     "end_time": "2022-06-28T14:21:14.411987",
     "exception": false,
     "start_time": "2022-06-28T14:21:14.403325",
     "status": "completed"
    },
    "tags": []
   },
   "source": [
    "# Keep going\n",
    "\n",
    "Continue to learn about **[data leakage](https://www.kaggle.com/alexisbcook/data-leakage)**.  This is an important issue for a data scientist to understand, and it has the potential to ruin your models in subtle and dangerous ways!"
   ]
  },
  {
   "cell_type": "markdown",
   "id": "22268978",
   "metadata": {
    "papermill": {
     "duration": 0.008691,
     "end_time": "2022-06-28T14:21:14.429684",
     "exception": false,
     "start_time": "2022-06-28T14:21:14.420993",
     "status": "completed"
    },
    "tags": []
   },
   "source": [
    "---\n",
    "\n",
    "\n",
    "\n",
    "\n",
    "*Have questions or comments? Visit the [course discussion forum](https://www.kaggle.com/learn/intermediate-machine-learning/discussion) to chat with other learners.*"
   ]
  }
 ],
 "metadata": {
  "kernelspec": {
   "display_name": "Python 3",
   "language": "python",
   "name": "python3"
  },
  "language_info": {
   "codemirror_mode": {
    "name": "ipython",
    "version": 3
   },
   "file_extension": ".py",
   "mimetype": "text/x-python",
   "name": "python",
   "nbconvert_exporter": "python",
   "pygments_lexer": "ipython3",
   "version": "3.7.12"
  },
  "papermill": {
   "default_parameters": {},
   "duration": 17.036084,
   "end_time": "2022-06-28T14:21:15.360226",
   "environment_variables": {},
   "exception": null,
   "input_path": "__notebook__.ipynb",
   "output_path": "__notebook__.ipynb",
   "parameters": {},
   "start_time": "2022-06-28T14:20:58.324142",
   "version": "2.3.4"
  }
 },
 "nbformat": 4,
 "nbformat_minor": 5
}
