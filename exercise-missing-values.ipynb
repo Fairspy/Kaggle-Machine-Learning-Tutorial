{
 "cells": [
  {
   "cell_type": "markdown",
   "id": "f103df0e",
   "metadata": {
    "papermill": {
     "duration": 0.011207,
     "end_time": "2022-06-28T12:42:23.083810",
     "exception": false,
     "start_time": "2022-06-28T12:42:23.072603",
     "status": "completed"
    },
    "tags": []
   },
   "source": [
    "**This notebook is an exercise in the [Intermediate Machine Learning](https://www.kaggle.com/learn/intermediate-machine-learning) course.  You can reference the tutorial at [this link](https://www.kaggle.com/alexisbcook/missing-values).**\n",
    "\n",
    "---\n"
   ]
  },
  {
   "cell_type": "markdown",
   "id": "559c63f9",
   "metadata": {
    "papermill": {
     "duration": 0.009238,
     "end_time": "2022-06-28T12:42:23.102850",
     "exception": false,
     "start_time": "2022-06-28T12:42:23.093612",
     "status": "completed"
    },
    "tags": []
   },
   "source": [
    "Now it's your turn to test your new knowledge of **missing values** handling. You'll probably find it makes a big difference.\n",
    "\n",
    "# Setup\n",
    "\n",
    "The questions will give you feedback on your work. Run the following cell to set up the feedback system."
   ]
  },
  {
   "cell_type": "code",
   "execution_count": 1,
   "id": "b0454dee",
   "metadata": {
    "execution": {
     "iopub.execute_input": "2022-06-28T12:42:23.124518Z",
     "iopub.status.busy": "2022-06-28T12:42:23.123640Z",
     "iopub.status.idle": "2022-06-28T12:42:23.184123Z",
     "shell.execute_reply": "2022-06-28T12:42:23.183280Z"
    },
    "papermill": {
     "duration": 0.074654,
     "end_time": "2022-06-28T12:42:23.187017",
     "exception": false,
     "start_time": "2022-06-28T12:42:23.112363",
     "status": "completed"
    },
    "tags": []
   },
   "outputs": [
    {
     "name": "stdout",
     "output_type": "stream",
     "text": [
      "Setup Complete\n"
     ]
    }
   ],
   "source": [
    "# Set up code checking\n",
    "import os\n",
    "if not os.path.exists(\"../input/train.csv\"):\n",
    "    os.symlink(\"../input/home-data-for-ml-course/train.csv\", \"../input/train.csv\")  \n",
    "    os.symlink(\"../input/home-data-for-ml-course/test.csv\", \"../input/test.csv\") \n",
    "from learntools.core import binder\n",
    "binder.bind(globals())\n",
    "from learntools.ml_intermediate.ex2 import *\n",
    "print(\"Setup Complete\")"
   ]
  },
  {
   "cell_type": "markdown",
   "id": "06f4f459",
   "metadata": {
    "papermill": {
     "duration": 0.009347,
     "end_time": "2022-06-28T12:42:23.206196",
     "exception": false,
     "start_time": "2022-06-28T12:42:23.196849",
     "status": "completed"
    },
    "tags": []
   },
   "source": [
    "In this exercise, you will work with data from the [Housing Prices Competition for Kaggle Learn Users](https://www.kaggle.com/c/home-data-for-ml-course). \n",
    "\n",
    "![Ames Housing dataset image](https://i.imgur.com/lTJVG4e.png)\n",
    "\n",
    "Run the next code cell without changes to load the training and validation sets in `X_train`, `X_valid`, `y_train`, and `y_valid`.  The test set is loaded in `X_test`."
   ]
  },
  {
   "cell_type": "code",
   "execution_count": 2,
   "id": "371737f4",
   "metadata": {
    "execution": {
     "iopub.execute_input": "2022-06-28T12:42:23.228525Z",
     "iopub.status.busy": "2022-06-28T12:42:23.227307Z",
     "iopub.status.idle": "2022-06-28T12:42:24.528109Z",
     "shell.execute_reply": "2022-06-28T12:42:24.526696Z"
    },
    "papermill": {
     "duration": 1.315433,
     "end_time": "2022-06-28T12:42:24.531445",
     "exception": false,
     "start_time": "2022-06-28T12:42:23.216012",
     "status": "completed"
    },
    "tags": []
   },
   "outputs": [],
   "source": [
    "import pandas as pd\n",
    "from sklearn.model_selection import train_test_split\n",
    "\n",
    "# Read the data\n",
    "X_full = pd.read_csv('../input/train.csv', index_col='Id')\n",
    "X_test_full = pd.read_csv('../input/test.csv', index_col='Id')\n",
    "\n",
    "# Remove rows with missing target, separate target from predictors\n",
    "X_full.dropna(axis=0, subset=['SalePrice'], inplace=True)\n",
    "y = X_full.SalePrice\n",
    "X_full.drop(['SalePrice'], axis=1, inplace=True)\n",
    "\n",
    "# To keep things simple, we'll use only numerical predictors\n",
    "X = X_full.select_dtypes(exclude=['object'])\n",
    "X_test = X_test_full.select_dtypes(exclude=['object'])\n",
    "\n",
    "# Break off validation set from training data\n",
    "X_train, X_valid, y_train, y_valid = train_test_split(X, y, train_size=0.8, test_size=0.2,\n",
    "                                                      random_state=0)"
   ]
  },
  {
   "cell_type": "markdown",
   "id": "c418816d",
   "metadata": {
    "papermill": {
     "duration": 0.009664,
     "end_time": "2022-06-28T12:42:24.554062",
     "exception": false,
     "start_time": "2022-06-28T12:42:24.544398",
     "status": "completed"
    },
    "tags": []
   },
   "source": [
    "Use the next code cell to print the first five rows of the data."
   ]
  },
  {
   "cell_type": "code",
   "execution_count": 3,
   "id": "b060a344",
   "metadata": {
    "execution": {
     "iopub.execute_input": "2022-06-28T12:42:24.575660Z",
     "iopub.status.busy": "2022-06-28T12:42:24.575266Z",
     "iopub.status.idle": "2022-06-28T12:42:24.606314Z",
     "shell.execute_reply": "2022-06-28T12:42:24.604797Z"
    },
    "papermill": {
     "duration": 0.044947,
     "end_time": "2022-06-28T12:42:24.609001",
     "exception": false,
     "start_time": "2022-06-28T12:42:24.564054",
     "status": "completed"
    },
    "tags": []
   },
   "outputs": [
    {
     "data": {
      "text/html": [
       "<div>\n",
       "<style scoped>\n",
       "    .dataframe tbody tr th:only-of-type {\n",
       "        vertical-align: middle;\n",
       "    }\n",
       "\n",
       "    .dataframe tbody tr th {\n",
       "        vertical-align: top;\n",
       "    }\n",
       "\n",
       "    .dataframe thead th {\n",
       "        text-align: right;\n",
       "    }\n",
       "</style>\n",
       "<table border=\"1\" class=\"dataframe\">\n",
       "  <thead>\n",
       "    <tr style=\"text-align: right;\">\n",
       "      <th></th>\n",
       "      <th>MSSubClass</th>\n",
       "      <th>LotFrontage</th>\n",
       "      <th>LotArea</th>\n",
       "      <th>OverallQual</th>\n",
       "      <th>OverallCond</th>\n",
       "      <th>YearBuilt</th>\n",
       "      <th>YearRemodAdd</th>\n",
       "      <th>MasVnrArea</th>\n",
       "      <th>BsmtFinSF1</th>\n",
       "      <th>BsmtFinSF2</th>\n",
       "      <th>...</th>\n",
       "      <th>GarageArea</th>\n",
       "      <th>WoodDeckSF</th>\n",
       "      <th>OpenPorchSF</th>\n",
       "      <th>EnclosedPorch</th>\n",
       "      <th>3SsnPorch</th>\n",
       "      <th>ScreenPorch</th>\n",
       "      <th>PoolArea</th>\n",
       "      <th>MiscVal</th>\n",
       "      <th>MoSold</th>\n",
       "      <th>YrSold</th>\n",
       "    </tr>\n",
       "    <tr>\n",
       "      <th>Id</th>\n",
       "      <th></th>\n",
       "      <th></th>\n",
       "      <th></th>\n",
       "      <th></th>\n",
       "      <th></th>\n",
       "      <th></th>\n",
       "      <th></th>\n",
       "      <th></th>\n",
       "      <th></th>\n",
       "      <th></th>\n",
       "      <th></th>\n",
       "      <th></th>\n",
       "      <th></th>\n",
       "      <th></th>\n",
       "      <th></th>\n",
       "      <th></th>\n",
       "      <th></th>\n",
       "      <th></th>\n",
       "      <th></th>\n",
       "      <th></th>\n",
       "      <th></th>\n",
       "    </tr>\n",
       "  </thead>\n",
       "  <tbody>\n",
       "    <tr>\n",
       "      <th>619</th>\n",
       "      <td>20</td>\n",
       "      <td>90.0</td>\n",
       "      <td>11694</td>\n",
       "      <td>9</td>\n",
       "      <td>5</td>\n",
       "      <td>2007</td>\n",
       "      <td>2007</td>\n",
       "      <td>452.0</td>\n",
       "      <td>48</td>\n",
       "      <td>0</td>\n",
       "      <td>...</td>\n",
       "      <td>774</td>\n",
       "      <td>0</td>\n",
       "      <td>108</td>\n",
       "      <td>0</td>\n",
       "      <td>0</td>\n",
       "      <td>260</td>\n",
       "      <td>0</td>\n",
       "      <td>0</td>\n",
       "      <td>7</td>\n",
       "      <td>2007</td>\n",
       "    </tr>\n",
       "    <tr>\n",
       "      <th>871</th>\n",
       "      <td>20</td>\n",
       "      <td>60.0</td>\n",
       "      <td>6600</td>\n",
       "      <td>5</td>\n",
       "      <td>5</td>\n",
       "      <td>1962</td>\n",
       "      <td>1962</td>\n",
       "      <td>0.0</td>\n",
       "      <td>0</td>\n",
       "      <td>0</td>\n",
       "      <td>...</td>\n",
       "      <td>308</td>\n",
       "      <td>0</td>\n",
       "      <td>0</td>\n",
       "      <td>0</td>\n",
       "      <td>0</td>\n",
       "      <td>0</td>\n",
       "      <td>0</td>\n",
       "      <td>0</td>\n",
       "      <td>8</td>\n",
       "      <td>2009</td>\n",
       "    </tr>\n",
       "    <tr>\n",
       "      <th>93</th>\n",
       "      <td>30</td>\n",
       "      <td>80.0</td>\n",
       "      <td>13360</td>\n",
       "      <td>5</td>\n",
       "      <td>7</td>\n",
       "      <td>1921</td>\n",
       "      <td>2006</td>\n",
       "      <td>0.0</td>\n",
       "      <td>713</td>\n",
       "      <td>0</td>\n",
       "      <td>...</td>\n",
       "      <td>432</td>\n",
       "      <td>0</td>\n",
       "      <td>0</td>\n",
       "      <td>44</td>\n",
       "      <td>0</td>\n",
       "      <td>0</td>\n",
       "      <td>0</td>\n",
       "      <td>0</td>\n",
       "      <td>8</td>\n",
       "      <td>2009</td>\n",
       "    </tr>\n",
       "    <tr>\n",
       "      <th>818</th>\n",
       "      <td>20</td>\n",
       "      <td>NaN</td>\n",
       "      <td>13265</td>\n",
       "      <td>8</td>\n",
       "      <td>5</td>\n",
       "      <td>2002</td>\n",
       "      <td>2002</td>\n",
       "      <td>148.0</td>\n",
       "      <td>1218</td>\n",
       "      <td>0</td>\n",
       "      <td>...</td>\n",
       "      <td>857</td>\n",
       "      <td>150</td>\n",
       "      <td>59</td>\n",
       "      <td>0</td>\n",
       "      <td>0</td>\n",
       "      <td>0</td>\n",
       "      <td>0</td>\n",
       "      <td>0</td>\n",
       "      <td>7</td>\n",
       "      <td>2008</td>\n",
       "    </tr>\n",
       "    <tr>\n",
       "      <th>303</th>\n",
       "      <td>20</td>\n",
       "      <td>118.0</td>\n",
       "      <td>13704</td>\n",
       "      <td>7</td>\n",
       "      <td>5</td>\n",
       "      <td>2001</td>\n",
       "      <td>2002</td>\n",
       "      <td>150.0</td>\n",
       "      <td>0</td>\n",
       "      <td>0</td>\n",
       "      <td>...</td>\n",
       "      <td>843</td>\n",
       "      <td>468</td>\n",
       "      <td>81</td>\n",
       "      <td>0</td>\n",
       "      <td>0</td>\n",
       "      <td>0</td>\n",
       "      <td>0</td>\n",
       "      <td>0</td>\n",
       "      <td>1</td>\n",
       "      <td>2006</td>\n",
       "    </tr>\n",
       "  </tbody>\n",
       "</table>\n",
       "<p>5 rows × 36 columns</p>\n",
       "</div>"
      ],
      "text/plain": [
       "     MSSubClass  LotFrontage  LotArea  OverallQual  OverallCond  YearBuilt  \\\n",
       "Id                                                                           \n",
       "619          20         90.0    11694            9            5       2007   \n",
       "871          20         60.0     6600            5            5       1962   \n",
       "93           30         80.0    13360            5            7       1921   \n",
       "818          20          NaN    13265            8            5       2002   \n",
       "303          20        118.0    13704            7            5       2001   \n",
       "\n",
       "     YearRemodAdd  MasVnrArea  BsmtFinSF1  BsmtFinSF2  ...  GarageArea  \\\n",
       "Id                                                     ...               \n",
       "619          2007       452.0          48           0  ...         774   \n",
       "871          1962         0.0           0           0  ...         308   \n",
       "93           2006         0.0         713           0  ...         432   \n",
       "818          2002       148.0        1218           0  ...         857   \n",
       "303          2002       150.0           0           0  ...         843   \n",
       "\n",
       "     WoodDeckSF  OpenPorchSF  EnclosedPorch  3SsnPorch  ScreenPorch  PoolArea  \\\n",
       "Id                                                                              \n",
       "619           0          108              0          0          260         0   \n",
       "871           0            0              0          0            0         0   \n",
       "93            0            0             44          0            0         0   \n",
       "818         150           59              0          0            0         0   \n",
       "303         468           81              0          0            0         0   \n",
       "\n",
       "     MiscVal  MoSold  YrSold  \n",
       "Id                            \n",
       "619        0       7    2007  \n",
       "871        0       8    2009  \n",
       "93         0       8    2009  \n",
       "818        0       7    2008  \n",
       "303        0       1    2006  \n",
       "\n",
       "[5 rows x 36 columns]"
      ]
     },
     "execution_count": 3,
     "metadata": {},
     "output_type": "execute_result"
    }
   ],
   "source": [
    "X_train.head()"
   ]
  },
  {
   "cell_type": "markdown",
   "id": "7759b3d2",
   "metadata": {
    "papermill": {
     "duration": 0.010031,
     "end_time": "2022-06-28T12:42:24.629523",
     "exception": false,
     "start_time": "2022-06-28T12:42:24.619492",
     "status": "completed"
    },
    "tags": []
   },
   "source": [
    "You can already see a few missing values in the first several rows.  In the next step, you'll obtain a more comprehensive understanding of the missing values in the dataset.\n",
    "\n",
    "# Step 1: Preliminary investigation\n",
    "\n",
    "Run the code cell below without changes."
   ]
  },
  {
   "cell_type": "code",
   "execution_count": 4,
   "id": "94131de5",
   "metadata": {
    "execution": {
     "iopub.execute_input": "2022-06-28T12:42:24.652686Z",
     "iopub.status.busy": "2022-06-28T12:42:24.652303Z",
     "iopub.status.idle": "2022-06-28T12:42:24.661846Z",
     "shell.execute_reply": "2022-06-28T12:42:24.660599Z"
    },
    "papermill": {
     "duration": 0.023925,
     "end_time": "2022-06-28T12:42:24.664479",
     "exception": false,
     "start_time": "2022-06-28T12:42:24.640554",
     "status": "completed"
    },
    "tags": []
   },
   "outputs": [
    {
     "name": "stdout",
     "output_type": "stream",
     "text": [
      "(1168, 36)\n",
      "LotFrontage    212\n",
      "MasVnrArea       6\n",
      "GarageYrBlt     58\n",
      "dtype: int64\n"
     ]
    }
   ],
   "source": [
    "# Shape of training data (num_rows, num_columns)\n",
    "print(X_train.shape)\n",
    "\n",
    "# Number of missing values in each column of training data\n",
    "missing_val_count_by_column = (X_train.isnull().sum())\n",
    "print(missing_val_count_by_column[missing_val_count_by_column > 0])"
   ]
  },
  {
   "cell_type": "markdown",
   "id": "d9b1727f",
   "metadata": {
    "papermill": {
     "duration": 0.010199,
     "end_time": "2022-06-28T12:42:24.685208",
     "exception": false,
     "start_time": "2022-06-28T12:42:24.675009",
     "status": "completed"
    },
    "tags": []
   },
   "source": [
    "### Part A\n",
    "\n",
    "Use the above output to answer the questions below."
   ]
  },
  {
   "cell_type": "code",
   "execution_count": 5,
   "id": "3e4b0117",
   "metadata": {
    "execution": {
     "iopub.execute_input": "2022-06-28T12:42:24.707650Z",
     "iopub.status.busy": "2022-06-28T12:42:24.707274Z",
     "iopub.status.idle": "2022-06-28T12:42:24.716353Z",
     "shell.execute_reply": "2022-06-28T12:42:24.715272Z"
    },
    "papermill": {
     "duration": 0.023211,
     "end_time": "2022-06-28T12:42:24.718690",
     "exception": false,
     "start_time": "2022-06-28T12:42:24.695479",
     "status": "completed"
    },
    "tags": []
   },
   "outputs": [
    {
     "data": {
      "application/javascript": [
       "parent.postMessage({\"jupyterEvent\": \"custom.exercise_interaction\", \"data\": {\"outcomeType\": 1, \"valueTowardsCompletion\": 1.0, \"interactionType\": 1, \"questionType\": 1, \"questionId\": \"1.1_InvestigateEquality\", \"learnToolsVersion\": \"0.3.4\", \"failureMessage\": \"\", \"exceptionClass\": \"\", \"trace\": \"\"}}, \"*\")"
      ],
      "text/plain": [
       "<IPython.core.display.Javascript object>"
      ]
     },
     "metadata": {},
     "output_type": "display_data"
    },
    {
     "data": {
      "text/markdown": [
       "<span style=\"color:#33cc33\">Correct</span>"
      ],
      "text/plain": [
       "Correct"
      ]
     },
     "metadata": {},
     "output_type": "display_data"
    }
   ],
   "source": [
    "# Fill in the line below: How many rows are in the training data?\n",
    "num_rows = 1168\n",
    "\n",
    "# Fill in the line below: How many columns in the training data\n",
    "# have missing values?\n",
    "num_cols_with_missing = 3\n",
    "\n",
    "# Fill in the line below: How many missing entries are contained in \n",
    "# all of the training data?\n",
    "tot_missing = 276\n",
    "\n",
    "# Check your answers\n",
    "step_1.a.check()"
   ]
  },
  {
   "cell_type": "code",
   "execution_count": 6,
   "id": "8dd0cfc1",
   "metadata": {
    "execution": {
     "iopub.execute_input": "2022-06-28T12:42:24.741705Z",
     "iopub.status.busy": "2022-06-28T12:42:24.741295Z",
     "iopub.status.idle": "2022-06-28T12:42:24.746414Z",
     "shell.execute_reply": "2022-06-28T12:42:24.745211Z"
    },
    "papermill": {
     "duration": 0.019448,
     "end_time": "2022-06-28T12:42:24.748879",
     "exception": false,
     "start_time": "2022-06-28T12:42:24.729431",
     "status": "completed"
    },
    "tags": []
   },
   "outputs": [],
   "source": [
    "# Lines below will give you a hint or solution code\n",
    "#step_1.a.hint()\n",
    "#step_1.a.solution()"
   ]
  },
  {
   "cell_type": "markdown",
   "id": "60d2c9f0",
   "metadata": {
    "papermill": {
     "duration": 0.010275,
     "end_time": "2022-06-28T12:42:24.770182",
     "exception": false,
     "start_time": "2022-06-28T12:42:24.759907",
     "status": "completed"
    },
    "tags": []
   },
   "source": [
    "### Part B\n",
    "Considering your answers above, what do you think is likely the best approach to dealing with the missing values?"
   ]
  },
  {
   "cell_type": "code",
   "execution_count": 7,
   "id": "9676e24b",
   "metadata": {
    "execution": {
     "iopub.execute_input": "2022-06-28T12:42:24.793172Z",
     "iopub.status.busy": "2022-06-28T12:42:24.792764Z",
     "iopub.status.idle": "2022-06-28T12:42:24.802369Z",
     "shell.execute_reply": "2022-06-28T12:42:24.801180Z"
    },
    "papermill": {
     "duration": 0.02418,
     "end_time": "2022-06-28T12:42:24.805094",
     "exception": false,
     "start_time": "2022-06-28T12:42:24.780914",
     "status": "completed"
    },
    "tags": []
   },
   "outputs": [
    {
     "data": {
      "application/javascript": [
       "parent.postMessage({\"jupyterEvent\": \"custom.exercise_interaction\", \"data\": {\"outcomeType\": 1, \"valueTowardsCompletion\": 1.0, \"interactionType\": 1, \"questionType\": 4, \"questionId\": \"1.2_InvestigateThought\", \"learnToolsVersion\": \"0.3.4\", \"failureMessage\": \"\", \"exceptionClass\": \"\", \"trace\": \"\"}}, \"*\")"
      ],
      "text/plain": [
       "<IPython.core.display.Javascript object>"
      ]
     },
     "metadata": {},
     "output_type": "display_data"
    },
    {
     "data": {
      "text/markdown": [
       "<span style=\"color:#33cc33\">Correct:</span> \n",
       "\n",
       "Since there are relatively few missing entries in the data (the column with the greatest percentage of missing values is missing less than 20% of its entries), we can expect that dropping columns is unlikely to yield good results.  This is because we'd be throwing away a lot of valuable data, and so imputation will likely perform better."
      ],
      "text/plain": [
       "Correct: \n",
       "\n",
       "Since there are relatively few missing entries in the data (the column with the greatest percentage of missing values is missing less than 20% of its entries), we can expect that dropping columns is unlikely to yield good results.  This is because we'd be throwing away a lot of valuable data, and so imputation will likely perform better."
      ]
     },
     "metadata": {},
     "output_type": "display_data"
    }
   ],
   "source": [
    "# Check your answer (Run this code cell to receive credit!)\n",
    "step_1.b.check()"
   ]
  },
  {
   "cell_type": "code",
   "execution_count": 8,
   "id": "27e5c59b",
   "metadata": {
    "execution": {
     "iopub.execute_input": "2022-06-28T12:42:24.829463Z",
     "iopub.status.busy": "2022-06-28T12:42:24.829076Z",
     "iopub.status.idle": "2022-06-28T12:42:24.833349Z",
     "shell.execute_reply": "2022-06-28T12:42:24.832513Z"
    },
    "papermill": {
     "duration": 0.018991,
     "end_time": "2022-06-28T12:42:24.835772",
     "exception": false,
     "start_time": "2022-06-28T12:42:24.816781",
     "status": "completed"
    },
    "tags": []
   },
   "outputs": [],
   "source": [
    "#step_1.b.hint()"
   ]
  },
  {
   "cell_type": "markdown",
   "id": "92c14c72",
   "metadata": {
    "papermill": {
     "duration": 0.010561,
     "end_time": "2022-06-28T12:42:24.857700",
     "exception": false,
     "start_time": "2022-06-28T12:42:24.847139",
     "status": "completed"
    },
    "tags": []
   },
   "source": [
    "To compare different approaches to dealing with missing values, you'll use the same `score_dataset()` function from the tutorial.  This function reports the [mean absolute error](https://en.wikipedia.org/wiki/Mean_absolute_error) (MAE) from a random forest model."
   ]
  },
  {
   "cell_type": "code",
   "execution_count": 9,
   "id": "be6388e1",
   "metadata": {
    "execution": {
     "iopub.execute_input": "2022-06-28T12:42:24.881335Z",
     "iopub.status.busy": "2022-06-28T12:42:24.880918Z",
     "iopub.status.idle": "2022-06-28T12:42:25.125073Z",
     "shell.execute_reply": "2022-06-28T12:42:25.123694Z"
    },
    "papermill": {
     "duration": 0.259496,
     "end_time": "2022-06-28T12:42:25.128193",
     "exception": false,
     "start_time": "2022-06-28T12:42:24.868697",
     "status": "completed"
    },
    "tags": []
   },
   "outputs": [],
   "source": [
    "from sklearn.ensemble import RandomForestRegressor\n",
    "from sklearn.metrics import mean_absolute_error\n",
    "\n",
    "# Function for comparing different approaches\n",
    "def score_dataset(X_train, X_valid, y_train, y_valid):\n",
    "    model = RandomForestRegressor(n_estimators=100, random_state=0)\n",
    "    model.fit(X_train, y_train)\n",
    "    preds = model.predict(X_valid)\n",
    "    return mean_absolute_error(y_valid, preds)"
   ]
  },
  {
   "cell_type": "markdown",
   "id": "15b52c70",
   "metadata": {
    "papermill": {
     "duration": 0.010528,
     "end_time": "2022-06-28T12:42:25.149783",
     "exception": false,
     "start_time": "2022-06-28T12:42:25.139255",
     "status": "completed"
    },
    "tags": []
   },
   "source": [
    "# Step 2: Drop columns with missing values\n",
    "\n",
    "In this step, you'll preprocess the data in `X_train` and `X_valid` to remove columns with missing values.  Set the preprocessed DataFrames to `reduced_X_train` and `reduced_X_valid`, respectively.  "
   ]
  },
  {
   "cell_type": "code",
   "execution_count": 10,
   "id": "96bc433d",
   "metadata": {
    "execution": {
     "iopub.execute_input": "2022-06-28T12:42:25.173285Z",
     "iopub.status.busy": "2022-06-28T12:42:25.172895Z",
     "iopub.status.idle": "2022-06-28T12:42:25.207570Z",
     "shell.execute_reply": "2022-06-28T12:42:25.206434Z"
    },
    "papermill": {
     "duration": 0.049205,
     "end_time": "2022-06-28T12:42:25.209901",
     "exception": false,
     "start_time": "2022-06-28T12:42:25.160696",
     "status": "completed"
    },
    "tags": []
   },
   "outputs": [
    {
     "data": {
      "application/javascript": [
       "parent.postMessage({\"jupyterEvent\": \"custom.exercise_interaction\", \"data\": {\"outcomeType\": 1, \"valueTowardsCompletion\": 1.0, \"interactionType\": 1, \"questionType\": 2, \"questionId\": \"2_DropMissing\", \"learnToolsVersion\": \"0.3.4\", \"failureMessage\": \"\", \"exceptionClass\": \"\", \"trace\": \"\"}}, \"*\")"
      ],
      "text/plain": [
       "<IPython.core.display.Javascript object>"
      ]
     },
     "metadata": {},
     "output_type": "display_data"
    },
    {
     "data": {
      "text/markdown": [
       "<span style=\"color:#33cc33\">Correct</span>"
      ],
      "text/plain": [
       "Correct"
      ]
     },
     "metadata": {},
     "output_type": "display_data"
    }
   ],
   "source": [
    "# Fill in the line below: get names of columns with missing values\n",
    "cols_with_missing = [col for col in X_train.columns\n",
    "                     if X_train[col].isnull().any()] # Your code here\n",
    "\n",
    "# Fill in the lines below: drop columns in training and validation data\n",
    "reduced_X_train = X_train.drop(cols_with_missing, axis = 1)\n",
    "reduced_X_valid = X_valid.drop(cols_with_missing, axis = 1)\n",
    "\n",
    "# Check your answers\n",
    "step_2.check()"
   ]
  },
  {
   "cell_type": "code",
   "execution_count": 11,
   "id": "5fae704f",
   "metadata": {
    "execution": {
     "iopub.execute_input": "2022-06-28T12:42:25.234739Z",
     "iopub.status.busy": "2022-06-28T12:42:25.233608Z",
     "iopub.status.idle": "2022-06-28T12:42:25.238043Z",
     "shell.execute_reply": "2022-06-28T12:42:25.237180Z"
    },
    "papermill": {
     "duration": 0.019116,
     "end_time": "2022-06-28T12:42:25.240331",
     "exception": false,
     "start_time": "2022-06-28T12:42:25.221215",
     "status": "completed"
    },
    "tags": []
   },
   "outputs": [],
   "source": [
    "# Lines below will give you a hint or solution code\n",
    "#step_2.hint()\n",
    "#step_2.solution()"
   ]
  },
  {
   "cell_type": "markdown",
   "id": "45d5fdb1",
   "metadata": {
    "papermill": {
     "duration": 0.010805,
     "end_time": "2022-06-28T12:42:25.262356",
     "exception": false,
     "start_time": "2022-06-28T12:42:25.251551",
     "status": "completed"
    },
    "tags": []
   },
   "source": [
    "Run the next code cell without changes to obtain the MAE for this approach."
   ]
  },
  {
   "cell_type": "code",
   "execution_count": 12,
   "id": "0878a0e8",
   "metadata": {
    "execution": {
     "iopub.execute_input": "2022-06-28T12:42:25.287750Z",
     "iopub.status.busy": "2022-06-28T12:42:25.286639Z",
     "iopub.status.idle": "2022-06-28T12:42:26.424275Z",
     "shell.execute_reply": "2022-06-28T12:42:26.422691Z"
    },
    "papermill": {
     "duration": 1.153805,
     "end_time": "2022-06-28T12:42:26.427943",
     "exception": false,
     "start_time": "2022-06-28T12:42:25.274138",
     "status": "completed"
    },
    "tags": []
   },
   "outputs": [
    {
     "name": "stdout",
     "output_type": "stream",
     "text": [
      "MAE (Drop columns with missing values):\n",
      "17837.82570776256\n"
     ]
    }
   ],
   "source": [
    "print(\"MAE (Drop columns with missing values):\")\n",
    "print(score_dataset(reduced_X_train, reduced_X_valid, y_train, y_valid))"
   ]
  },
  {
   "cell_type": "markdown",
   "id": "1d4eba4f",
   "metadata": {
    "papermill": {
     "duration": 0.011645,
     "end_time": "2022-06-28T12:42:26.452059",
     "exception": false,
     "start_time": "2022-06-28T12:42:26.440414",
     "status": "completed"
    },
    "tags": []
   },
   "source": [
    "# Step 3: Imputation\n",
    "\n",
    "### Part A\n",
    "\n",
    "Use the next code cell to impute missing values with the mean value along each column.  Set the preprocessed DataFrames to `imputed_X_train` and `imputed_X_valid`.  Make sure that the column names match those in `X_train` and `X_valid`."
   ]
  },
  {
   "cell_type": "code",
   "execution_count": 13,
   "id": "595d29da",
   "metadata": {
    "execution": {
     "iopub.execute_input": "2022-06-28T12:42:26.476152Z",
     "iopub.status.busy": "2022-06-28T12:42:26.475760Z",
     "iopub.status.idle": "2022-06-28T12:42:26.510401Z",
     "shell.execute_reply": "2022-06-28T12:42:26.509560Z"
    },
    "papermill": {
     "duration": 0.049244,
     "end_time": "2022-06-28T12:42:26.512536",
     "exception": false,
     "start_time": "2022-06-28T12:42:26.463292",
     "status": "completed"
    },
    "tags": []
   },
   "outputs": [
    {
     "data": {
      "application/javascript": [
       "parent.postMessage({\"jupyterEvent\": \"custom.exercise_interaction\", \"data\": {\"outcomeType\": 1, \"valueTowardsCompletion\": 1.0, \"interactionType\": 1, \"questionType\": 2, \"questionId\": \"3.1_ImputeCode\", \"learnToolsVersion\": \"0.3.4\", \"failureMessage\": \"\", \"exceptionClass\": \"\", \"trace\": \"\"}}, \"*\")"
      ],
      "text/plain": [
       "<IPython.core.display.Javascript object>"
      ]
     },
     "metadata": {},
     "output_type": "display_data"
    },
    {
     "data": {
      "text/markdown": [
       "<span style=\"color:#33cc33\">Correct</span>"
      ],
      "text/plain": [
       "Correct"
      ]
     },
     "metadata": {},
     "output_type": "display_data"
    }
   ],
   "source": [
    "from sklearn.impute import SimpleImputer\n",
    "\n",
    "# Fill in the lines below: imputation\n",
    "imputer = SimpleImputer() # Your code here\n",
    "imputed_X_train = pd.DataFrame(imputer.fit_transform(X_train))\n",
    "imputed_X_valid = pd.DataFrame(imputer.transform(X_valid))\n",
    "\n",
    "# Fill in the lines below: imputation removed column names; put them back\n",
    "imputed_X_train.columns = X_train.columns\n",
    "imputed_X_valid.columns = X_valid.columns\n",
    "\n",
    "# Check your answers\n",
    "step_3.a.check()"
   ]
  },
  {
   "cell_type": "code",
   "execution_count": 14,
   "id": "1f5160f3",
   "metadata": {
    "execution": {
     "iopub.execute_input": "2022-06-28T12:42:26.537596Z",
     "iopub.status.busy": "2022-06-28T12:42:26.537227Z",
     "iopub.status.idle": "2022-06-28T12:42:26.540937Z",
     "shell.execute_reply": "2022-06-28T12:42:26.540077Z"
    },
    "papermill": {
     "duration": 0.018791,
     "end_time": "2022-06-28T12:42:26.543007",
     "exception": false,
     "start_time": "2022-06-28T12:42:26.524216",
     "status": "completed"
    },
    "tags": []
   },
   "outputs": [],
   "source": [
    "# Lines below will give you a hint or solution code\n",
    "#step_3.a.hint()\n",
    "#step_3.a.solution()"
   ]
  },
  {
   "cell_type": "markdown",
   "id": "53e08b80",
   "metadata": {
    "papermill": {
     "duration": 0.011889,
     "end_time": "2022-06-28T12:42:26.566585",
     "exception": false,
     "start_time": "2022-06-28T12:42:26.554696",
     "status": "completed"
    },
    "tags": []
   },
   "source": [
    "Run the next code cell without changes to obtain the MAE for this approach."
   ]
  },
  {
   "cell_type": "code",
   "execution_count": 15,
   "id": "d5a4ca03",
   "metadata": {
    "execution": {
     "iopub.execute_input": "2022-06-28T12:42:26.592769Z",
     "iopub.status.busy": "2022-06-28T12:42:26.592026Z",
     "iopub.status.idle": "2022-06-28T12:42:27.841269Z",
     "shell.execute_reply": "2022-06-28T12:42:27.839825Z"
    },
    "papermill": {
     "duration": 1.265581,
     "end_time": "2022-06-28T12:42:27.844046",
     "exception": false,
     "start_time": "2022-06-28T12:42:26.578465",
     "status": "completed"
    },
    "tags": []
   },
   "outputs": [
    {
     "name": "stdout",
     "output_type": "stream",
     "text": [
      "MAE (Imputation):\n",
      "18062.894611872147\n"
     ]
    }
   ],
   "source": [
    "print(\"MAE (Imputation):\")\n",
    "print(score_dataset(imputed_X_train, imputed_X_valid, y_train, y_valid))"
   ]
  },
  {
   "cell_type": "markdown",
   "id": "8e1d7549",
   "metadata": {
    "papermill": {
     "duration": 0.011462,
     "end_time": "2022-06-28T12:42:27.867580",
     "exception": false,
     "start_time": "2022-06-28T12:42:27.856118",
     "status": "completed"
    },
    "tags": []
   },
   "source": [
    "### Part B\n",
    "\n",
    "Compare the MAE from each approach.  Does anything surprise you about the results?  Why do you think one approach performed better than the other?"
   ]
  },
  {
   "cell_type": "code",
   "execution_count": 16,
   "id": "386b2f97",
   "metadata": {
    "execution": {
     "iopub.execute_input": "2022-06-28T12:42:27.893562Z",
     "iopub.status.busy": "2022-06-28T12:42:27.892526Z",
     "iopub.status.idle": "2022-06-28T12:42:27.901076Z",
     "shell.execute_reply": "2022-06-28T12:42:27.900054Z"
    },
    "papermill": {
     "duration": 0.02434,
     "end_time": "2022-06-28T12:42:27.903621",
     "exception": false,
     "start_time": "2022-06-28T12:42:27.879281",
     "status": "completed"
    },
    "tags": []
   },
   "outputs": [
    {
     "data": {
      "application/javascript": [
       "parent.postMessage({\"jupyterEvent\": \"custom.exercise_interaction\", \"data\": {\"outcomeType\": 1, \"valueTowardsCompletion\": 1.0, \"interactionType\": 1, \"questionType\": 4, \"questionId\": \"3.2_ImputeThought\", \"learnToolsVersion\": \"0.3.4\", \"failureMessage\": \"\", \"exceptionClass\": \"\", \"trace\": \"\"}}, \"*\")"
      ],
      "text/plain": [
       "<IPython.core.display.Javascript object>"
      ]
     },
     "metadata": {},
     "output_type": "display_data"
    },
    {
     "data": {
      "text/markdown": [
       "<span style=\"color:#33cc33\">Correct:</span> \n",
       "\n",
       "Given that thre are so few missing values in the dataset, we'd expect imputation to perform better than dropping columns entirely.  However, we see that dropping columns performs slightly better!  While this can probably partially be attributed to noise in the dataset, another potential explanation is that the imputation method is not a great match to this dataset.  That is, maybe instead of filling in the mean value, it makes more sense to set every missing value to a value of 0, to fill in the most frequently encountered value, or to use some other method.  For instance, consider the `GarageYrBlt` column (which indicates the year that the garage was built).  It's likely that in some cases, a missing value could indicate a house that does not have a garage.  Does it make more sense to fill in the median value along each column in this case?  Or could we get better results by filling in the minimum value along each column?  It's not quite clear what's best in this case, but perhaps we can rule out some options immediately - for instance, setting missing values in this column to 0 is likely to yield horrible results!"
      ],
      "text/plain": [
       "Correct: \n",
       "\n",
       "Given that thre are so few missing values in the dataset, we'd expect imputation to perform better than dropping columns entirely.  However, we see that dropping columns performs slightly better!  While this can probably partially be attributed to noise in the dataset, another potential explanation is that the imputation method is not a great match to this dataset.  That is, maybe instead of filling in the mean value, it makes more sense to set every missing value to a value of 0, to fill in the most frequently encountered value, or to use some other method.  For instance, consider the `GarageYrBlt` column (which indicates the year that the garage was built).  It's likely that in some cases, a missing value could indicate a house that does not have a garage.  Does it make more sense to fill in the median value along each column in this case?  Or could we get better results by filling in the minimum value along each column?  It's not quite clear what's best in this case, but perhaps we can rule out some options immediately - for instance, setting missing values in this column to 0 is likely to yield horrible results!"
      ]
     },
     "metadata": {},
     "output_type": "display_data"
    }
   ],
   "source": [
    "# Check your answer (Run this code cell to receive credit!)\n",
    "step_3.b.check()"
   ]
  },
  {
   "cell_type": "code",
   "execution_count": 17,
   "id": "9003d2eb",
   "metadata": {
    "execution": {
     "iopub.execute_input": "2022-06-28T12:42:27.929712Z",
     "iopub.status.busy": "2022-06-28T12:42:27.929321Z",
     "iopub.status.idle": "2022-06-28T12:42:27.933829Z",
     "shell.execute_reply": "2022-06-28T12:42:27.932944Z"
    },
    "papermill": {
     "duration": 0.020103,
     "end_time": "2022-06-28T12:42:27.936023",
     "exception": false,
     "start_time": "2022-06-28T12:42:27.915920",
     "status": "completed"
    },
    "tags": []
   },
   "outputs": [],
   "source": [
    "#step_3.b.hint()"
   ]
  },
  {
   "cell_type": "markdown",
   "id": "3ee3440d",
   "metadata": {
    "papermill": {
     "duration": 0.011867,
     "end_time": "2022-06-28T12:42:27.960189",
     "exception": false,
     "start_time": "2022-06-28T12:42:27.948322",
     "status": "completed"
    },
    "tags": []
   },
   "source": [
    "# Step 4: Generate test predictions\n",
    "\n",
    "In this final step, you'll use any approach of your choosing to deal with missing values.  Once you've preprocessed the training and validation features, you'll train and evaluate a random forest model.  Then, you'll preprocess the test data before generating predictions that can be submitted to the competition!\n",
    "\n",
    "### Part A\n",
    "\n",
    "Use the next code cell to preprocess the training and validation data.  Set the preprocessed DataFrames to `final_X_train` and `final_X_valid`.  **You can use any approach of your choosing here!**  in order for this step to be marked as correct, you need only ensure:\n",
    "- the preprocessed DataFrames have the same number of columns,\n",
    "- the preprocessed DataFrames have no missing values, \n",
    "- `final_X_train` and `y_train` have the same number of rows, and\n",
    "- `final_X_valid` and `y_valid` have the same number of rows."
   ]
  },
  {
   "cell_type": "code",
   "execution_count": 18,
   "id": "d219ed2a",
   "metadata": {
    "execution": {
     "iopub.execute_input": "2022-06-28T12:42:27.986403Z",
     "iopub.status.busy": "2022-06-28T12:42:27.985644Z",
     "iopub.status.idle": "2022-06-28T12:42:28.019162Z",
     "shell.execute_reply": "2022-06-28T12:42:28.018012Z"
    },
    "papermill": {
     "duration": 0.049428,
     "end_time": "2022-06-28T12:42:28.021751",
     "exception": false,
     "start_time": "2022-06-28T12:42:27.972323",
     "status": "completed"
    },
    "tags": []
   },
   "outputs": [
    {
     "data": {
      "application/javascript": [
       "parent.postMessage({\"jupyterEvent\": \"custom.exercise_interaction\", \"data\": {\"outcomeType\": 1, \"valueTowardsCompletion\": 1.0, \"interactionType\": 1, \"questionType\": 2, \"questionId\": \"4.1_PredsCodeA\", \"learnToolsVersion\": \"0.3.4\", \"failureMessage\": \"\", \"exceptionClass\": \"\", \"trace\": \"\"}}, \"*\")"
      ],
      "text/plain": [
       "<IPython.core.display.Javascript object>"
      ]
     },
     "metadata": {},
     "output_type": "display_data"
    },
    {
     "data": {
      "text/markdown": [
       "<span style=\"color:#33cc33\">Correct</span>"
      ],
      "text/plain": [
       "Correct"
      ]
     },
     "metadata": {},
     "output_type": "display_data"
    }
   ],
   "source": [
    "# Preprocessed training and validation features\n",
    "final_imputer = SimpleImputer(strategy = 'median') # Your code here\n",
    "final_imputed_X_train = pd.DataFrame(final_imputer.fit_transform(X_train))\n",
    "final_imputed_X_valid = pd.DataFrame(final_imputer.transform(X_valid))\n",
    "final_X_train = final_imputed_X_train\n",
    "final_X_valid = final_imputed_X_valid\n",
    "\n",
    "# Check your answers\n",
    "step_4.a.check()"
   ]
  },
  {
   "cell_type": "code",
   "execution_count": 19,
   "id": "aebf3832",
   "metadata": {
    "execution": {
     "iopub.execute_input": "2022-06-28T12:42:28.049179Z",
     "iopub.status.busy": "2022-06-28T12:42:28.048785Z",
     "iopub.status.idle": "2022-06-28T12:42:28.053312Z",
     "shell.execute_reply": "2022-06-28T12:42:28.052006Z"
    },
    "papermill": {
     "duration": 0.021734,
     "end_time": "2022-06-28T12:42:28.055868",
     "exception": false,
     "start_time": "2022-06-28T12:42:28.034134",
     "status": "completed"
    },
    "tags": []
   },
   "outputs": [],
   "source": [
    "# Lines below will give you a hint or solution code\n",
    "#step_4.a.hint()\n",
    "#step_4.a.solution()"
   ]
  },
  {
   "cell_type": "markdown",
   "id": "4007ce8f",
   "metadata": {
    "papermill": {
     "duration": 0.011967,
     "end_time": "2022-06-28T12:42:28.080327",
     "exception": false,
     "start_time": "2022-06-28T12:42:28.068360",
     "status": "completed"
    },
    "tags": []
   },
   "source": [
    "Run the next code cell to train and evaluate a random forest model.  (*Note that we don't use the `score_dataset()` function above, because we will soon use the trained model to generate test predictions!*)"
   ]
  },
  {
   "cell_type": "code",
   "execution_count": 20,
   "id": "01e0a54f",
   "metadata": {
    "execution": {
     "iopub.execute_input": "2022-06-28T12:42:28.108095Z",
     "iopub.status.busy": "2022-06-28T12:42:28.107688Z",
     "iopub.status.idle": "2022-06-28T12:42:29.365779Z",
     "shell.execute_reply": "2022-06-28T12:42:29.364461Z"
    },
    "papermill": {
     "duration": 1.274984,
     "end_time": "2022-06-28T12:42:29.368443",
     "exception": false,
     "start_time": "2022-06-28T12:42:28.093459",
     "status": "completed"
    },
    "tags": []
   },
   "outputs": [
    {
     "name": "stdout",
     "output_type": "stream",
     "text": [
      "MAE (Your approach):\n",
      "17791.59899543379\n"
     ]
    }
   ],
   "source": [
    "# Define and fit model\n",
    "model = RandomForestRegressor(n_estimators=100, random_state=0)\n",
    "model.fit(final_X_train, y_train)\n",
    "\n",
    "# Get validation predictions and MAE\n",
    "preds_valid = model.predict(final_X_valid)\n",
    "print(\"MAE (Your approach):\")\n",
    "print(mean_absolute_error(y_valid, preds_valid))"
   ]
  },
  {
   "cell_type": "markdown",
   "id": "f00b8308",
   "metadata": {
    "papermill": {
     "duration": 0.012618,
     "end_time": "2022-06-28T12:42:29.393652",
     "exception": false,
     "start_time": "2022-06-28T12:42:29.381034",
     "status": "completed"
    },
    "tags": []
   },
   "source": [
    "### Part B\n",
    "\n",
    "Use the next code cell to preprocess your test data.  Make sure that you use a method that agrees with how you preprocessed the training and validation data, and set the preprocessed test features to `final_X_test`.\n",
    "\n",
    "Then, use the preprocessed test features and the trained model to generate test predictions in `preds_test`.\n",
    "\n",
    "In order for this step to be marked correct, you need only ensure:\n",
    "- the preprocessed test DataFrame has no missing values, and\n",
    "- `final_X_test` has the same number of rows as `X_test`."
   ]
  },
  {
   "cell_type": "code",
   "execution_count": 21,
   "id": "408e833e",
   "metadata": {
    "execution": {
     "iopub.execute_input": "2022-06-28T12:42:29.422126Z",
     "iopub.status.busy": "2022-06-28T12:42:29.421399Z",
     "iopub.status.idle": "2022-06-28T12:42:29.481548Z",
     "shell.execute_reply": "2022-06-28T12:42:29.480279Z"
    },
    "papermill": {
     "duration": 0.077666,
     "end_time": "2022-06-28T12:42:29.484005",
     "exception": false,
     "start_time": "2022-06-28T12:42:29.406339",
     "status": "completed"
    },
    "tags": []
   },
   "outputs": [
    {
     "data": {
      "application/javascript": [
       "parent.postMessage({\"jupyterEvent\": \"custom.exercise_interaction\", \"data\": {\"outcomeType\": 1, \"valueTowardsCompletion\": 1.0, \"interactionType\": 1, \"questionType\": 2, \"questionId\": \"4.2_PredsCodeB\", \"learnToolsVersion\": \"0.3.4\", \"failureMessage\": \"\", \"exceptionClass\": \"\", \"trace\": \"\"}}, \"*\")"
      ],
      "text/plain": [
       "<IPython.core.display.Javascript object>"
      ]
     },
     "metadata": {},
     "output_type": "display_data"
    },
    {
     "data": {
      "text/markdown": [
       "<span style=\"color:#33cc33\">Correct</span>"
      ],
      "text/plain": [
       "Correct"
      ]
     },
     "metadata": {},
     "output_type": "display_data"
    }
   ],
   "source": [
    "# Fill in the line below: preprocess test data\n",
    "final_X_test = pd.DataFrame(final_imputer.transform(X_test))\n",
    "\n",
    "# Fill in the line below: get test predictions\n",
    "preds_test = model.predict(final_X_test)\n",
    "\n",
    "# Check your answers\n",
    "step_4.b.check()"
   ]
  },
  {
   "cell_type": "code",
   "execution_count": 22,
   "id": "e04c49e0",
   "metadata": {
    "execution": {
     "iopub.execute_input": "2022-06-28T12:42:29.511648Z",
     "iopub.status.busy": "2022-06-28T12:42:29.511033Z",
     "iopub.status.idle": "2022-06-28T12:42:29.514935Z",
     "shell.execute_reply": "2022-06-28T12:42:29.513969Z"
    },
    "papermill": {
     "duration": 0.020451,
     "end_time": "2022-06-28T12:42:29.517206",
     "exception": false,
     "start_time": "2022-06-28T12:42:29.496755",
     "status": "completed"
    },
    "tags": []
   },
   "outputs": [],
   "source": [
    "# Lines below will give you a hint or solution code\n",
    "#step_4.b.hint()\n",
    "#step_4.b.solution()"
   ]
  },
  {
   "cell_type": "markdown",
   "id": "701cec3a",
   "metadata": {
    "papermill": {
     "duration": 0.01432,
     "end_time": "2022-06-28T12:42:29.544592",
     "exception": false,
     "start_time": "2022-06-28T12:42:29.530272",
     "status": "completed"
    },
    "tags": []
   },
   "source": [
    "Run the next code cell without changes to save your results to a CSV file that can be submitted directly to the competition."
   ]
  },
  {
   "cell_type": "code",
   "execution_count": 23,
   "id": "3fbbe700",
   "metadata": {
    "execution": {
     "iopub.execute_input": "2022-06-28T12:42:29.576953Z",
     "iopub.status.busy": "2022-06-28T12:42:29.576116Z",
     "iopub.status.idle": "2022-06-28T12:42:29.595359Z",
     "shell.execute_reply": "2022-06-28T12:42:29.594130Z"
    },
    "papermill": {
     "duration": 0.040849,
     "end_time": "2022-06-28T12:42:29.600468",
     "exception": false,
     "start_time": "2022-06-28T12:42:29.559619",
     "status": "completed"
    },
    "tags": []
   },
   "outputs": [],
   "source": [
    "# Save test predictions to file\n",
    "output = pd.DataFrame({'Id': X_test.index,\n",
    "                       'SalePrice': preds_test})\n",
    "output.to_csv('submission.csv', index=False)"
   ]
  },
  {
   "cell_type": "markdown",
   "id": "8350577b",
   "metadata": {
    "papermill": {
     "duration": 0.01513,
     "end_time": "2022-06-28T12:42:29.635518",
     "exception": false,
     "start_time": "2022-06-28T12:42:29.620388",
     "status": "completed"
    },
    "tags": []
   },
   "source": [
    "# Submit your results\n",
    "\n",
    "Once you have successfully completed Step 4, you're ready to submit your results to the leaderboard!  (_You also learned how to do this in the previous exercise.  If you need a reminder of how to do this, please use the instructions below._)  \n",
    "\n",
    "First, you'll need to join the competition if you haven't already.  So open a new window by clicking on [this link](https://www.kaggle.com/c/home-data-for-ml-course).  Then click on the **Join Competition** button.\n",
    "\n",
    "![join competition image](https://i.imgur.com/wLmFtH3.png)\n",
    "\n",
    "Next, follow the instructions below:\n",
    "1. Begin by clicking on the **Save Version** button in the top right corner of the window.  This will generate a pop-up window.  \n",
    "2. Ensure that the **Save and Run All** option is selected, and then click on the **Save** button.\n",
    "3. This generates a window in the bottom left corner of the notebook.  After it has finished running, click on the number to the right of the **Save Version** button.  This pulls up a list of versions on the right of the screen.  Click on the ellipsis **(...)** to the right of the most recent version, and select **Open in Viewer**.  This brings you into view mode of the same page. You will need to scroll down to get back to these instructions.\n",
    "4. Click on the **Output** tab on the right of the screen.  Then, click on the file you would like to submit, and click on the **Submit** button to submit your results to the leaderboard.\n",
    "\n",
    "You have now successfully submitted to the competition!\n",
    "\n",
    "If you want to keep working to improve your performance, select the **Edit** button in the top right of the screen. Then you can change your code and repeat the process. There's a lot of room to improve, and you will climb up the leaderboard as you work.\n",
    "\n",
    "\n",
    "# Keep going\n",
    "\n",
    "Move on to learn what **[categorical variables](https://www.kaggle.com/alexisbcook/categorical-variables)** are, along with how to incorporate them into your machine learning models.  Categorical variables are very common in real-world data, but you'll get an error if you try to plug them into your models without processing them first!"
   ]
  },
  {
   "cell_type": "markdown",
   "id": "e02170bc",
   "metadata": {
    "papermill": {
     "duration": 0.013432,
     "end_time": "2022-06-28T12:42:29.663114",
     "exception": false,
     "start_time": "2022-06-28T12:42:29.649682",
     "status": "completed"
    },
    "tags": []
   },
   "source": [
    "---\n",
    "\n",
    "\n",
    "\n",
    "\n",
    "*Have questions or comments? Visit the [course discussion forum](https://www.kaggle.com/learn/intermediate-machine-learning/discussion) to chat with other learners.*"
   ]
  }
 ],
 "metadata": {
  "kernelspec": {
   "display_name": "Python 3",
   "language": "python",
   "name": "python3"
  },
  "language_info": {
   "codemirror_mode": {
    "name": "ipython",
    "version": 3
   },
   "file_extension": ".py",
   "mimetype": "text/x-python",
   "name": "python",
   "nbconvert_exporter": "python",
   "pygments_lexer": "ipython3",
   "version": "3.7.12"
  },
  "papermill": {
   "default_parameters": {},
   "duration": 18.308556,
   "end_time": "2022-06-28T12:42:30.500447",
   "environment_variables": {},
   "exception": null,
   "input_path": "__notebook__.ipynb",
   "output_path": "__notebook__.ipynb",
   "parameters": {},
   "start_time": "2022-06-28T12:42:12.191891",
   "version": "2.3.4"
  }
 },
 "nbformat": 4,
 "nbformat_minor": 5
}
